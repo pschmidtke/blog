{
 "metadata": {
  "language_info": {
   "codemirror_mode": {
    "name": "ipython",
    "version": 3
   },
   "file_extension": ".py",
   "mimetype": "text/x-python",
   "name": "python",
   "nbconvert_exporter": "python",
   "pygments_lexer": "ipython3",
   "version": "3.8.5-final"
  },
  "orig_nbformat": 2,
  "kernelspec": {
   "name": "python3",
   "display_name": "Python 3.8.5 64-bit ('py38_rdkit_blog': conda)",
   "metadata": {
    "interpreter": {
     "hash": "b732ac2e9e8541d594a55bb9899b9aa030b36b870c696cf9f423bdd695da61af"
    }
   }
  }
 },
 "nbformat": 4,
 "nbformat_minor": 2,
 "cells": [
  {
   "source": [
    "# \"Crystallography Open Database and torsion angle statistics with rdkit\"\n",
    "> \"First steps to check how easy / feasible it is to extract torsion angle statistics from the COD\"\n",
    "\n",
    "- toc: true\n",
    "- branch: master\n",
    "- badges: true\n",
    "- comments: true\n",
    "- author: Peter Schmidtke\n",
    "- categories: [rdkit, crystallography, small molecule xray, xray, database]\n",
    "- image: images/toc-cod.png\n"
   ],
   "cell_type": "markdown",
   "metadata": {}
  },
  {
   "source": [
    "## Context\n",
    "\n",
    "When designing compounds in 3D, especially within the binding site, it is often very complicated to assess if what you've just designed actually makes sense. Is the molecule strained? Does it make ok or favourable interactions? Does it bump into the binding site somewhere? Especially when talking to medicinal chemists, they usually want to know whether their design passes all potential physical hurdles ... and while we're at it a prediction of the binding affinity would be nice and this in 1 second. \n",
    "\n",
    "Among all of these things to evaluate on a compound in 3D, the strain is something that can be either calculated (quantum mecanics, or force-field if you trust that) or compared to a set of reference compounds we know the structures of. \n",
    "\n",
    "A very popular reference database for small molecule conformations is the [CCDC CSD](https://www.ccdc.cam.ac.uk/solutions/csd-core/components/csd/). It contains more than a million small molecule crystal structures. It is widely used in pharma industry to assess various things ... among them: ligand strain. I won't enter the debate here whether the conformations observed in small molecule crystal structures are relevant and all the other debates on the use of such a database. \n",
    "\n",
    "The thing is, the CSD is not freely available. However, there's a free alternative available ... I guess the poor man's CSD and it's called COD for [Crystallography Open Database](http://www.crystallography.net/cod/index.php). It contains less structures than the CSD (466 000 by the time I'm writing this), that's for sure, but it's still maintained and people are depositing structures in there. The quality appears to be OK as well according to what I read so far, no tests done yet. \n",
    "\n",
    "Here I'll outline a few steps on how to get the COD and use rdkit to extract all torsion angles of all molecules - a long and bumpy ride. Here we go. \n",
    "\n"
   ],
   "cell_type": "markdown",
   "metadata": {}
  },
  {
   "source": [
    "## Get the COD\n",
    "\n",
    "That's rather easy. You can simply retrieve cif or hkl files from their server using this here: \n",
    "\n",
    "`mkdir -p cif; rsync -av --delete rsync://www.crystallography.net/cif/ cif/`\n",
    "\n",
    "This should run for a bit. "
   ],
   "cell_type": "markdown",
   "metadata": {}
  },
  {
   "source": [
    "## Parsing CIF in rdkit\n",
    "\n",
    "The first hurdle is as usual linked to molecular formats. To the best of my knowledge no cif parser was ported yet to rdkit. I tried a few parsers (gemmi - no mol or other useable output yet, pdbccdutils -> only macromolecular cif files, I think) before ending up again with openbabel in the end. Let's stick with that for now.\n",
    "\n",
    "Let's try to see what this looks like for a single cif file from the COD:\n"
   ],
   "cell_type": "markdown",
   "metadata": {}
  },
  {
   "cell_type": "code",
   "execution_count": 103,
   "metadata": {},
   "outputs": [
    {
     "output_type": "execute_result",
     "data": {
      "text/plain": [
       "<rdkit.Chem.rdchem.Mol at 0x7fc96111e8f0>"
      ],
      "image/png": "[encoded data removed]"
     },
     "metadata": {},
     "execution_count": 103
    }
   ],
   "source": [
    "from rdkit import Chem\n",
    "from openbabel import pybel\n",
    "import py3Dmol\n",
    "import dask\n",
    "mol = next(pybel.readfile(\"cif\", \"../../cod/cif/1/00/00/1000007.cif\")) \n",
    "\n",
    "molblock=mol.write(\"mol\")    #write out as a molfile string and ship that now into rdkit\n",
    "\n",
    "m = Chem.MolFromMolBlock(molblock,removeHs=False)\n",
    "m"
   ]
  },
  {
   "source": [
    "Well, that looks rather nasty. Let's check in 3D:"
   ],
   "cell_type": "markdown",
   "metadata": {}
  },
  {
   "cell_type": "code",
   "execution_count": 102,
   "metadata": {},
   "outputs": [
    {
     "output_type": "display_data",
     "data": {
      "application/3dmoljs_load.v0": "<div id=\"3dmolviewer_1611794340751316\"  style=\"position: relative; width: 300px; height: 300px\">\n        <p id=\"3dmolwarning_1611794340751316\" style=\"background-color:#ffcccc;color:black\">You appear to be running in JupyterLab (or JavaScript failed to load for some other reason).  You need to install the 3dmol extension: <br>\n        <tt>jupyter labextension install jupyterlab_3dmol</tt></p>\n        </div>\n<script>\n\nvar loadScriptAsync = function(uri){\n  return new Promise((resolve, reject) => {\n    var tag = document.createElement('script');\n    tag.src = uri;\n    tag.async = true;\n    tag.onload = () => {\n      resolve();\n    };\n  var firstScriptTag = document.getElementsByTagName('script')[0];\n  firstScriptTag.parentNode.insertBefore(tag, firstScriptTag);\n});\n};\n\nif(typeof $3Dmolpromise === 'undefined') {\n$3Dmolpromise = null;\n  $3Dmolpromise = loadScriptAsync('https://3dmol.csb.pitt.edu/build/3Dmol.js');\n}\n\nvar viewer_1611794340751316 = null;\nvar warn = document.getElementById(\"3dmolwarning_1611794340751316\");\nif(warn) {\n    warn.parentNode.removeChild(warn);\n}\n$3Dmolpromise.then(function() {\nviewer_1611794340751316 = $3Dmol.createViewer($(\"#3dmolviewer_1611794340751316\"),{backgroundColor:\"white\"});\n\tviewer_1611794340751316.addModel(\"?\\n     RDKit          3D\\n\\n156159  0  0  0  0  0  0  0  0999 V2000\\n    6.7116    7.5612    6.1763 O   0  0  0  0  0  0  0  0  0  0  0  0\\n    6.4874    9.1026    7.8099 O   0  0  0  0  0  0  0  0  0  0  0  0\\n    7.0851   12.2639    3.3688 O   0  0  0  0  0  0  0  0  0  0  0  0\\n    7.6513   11.8884    3.8630 H   0  0  0  0  0  0  0  0  0  0  0  0\\n    6.4672    9.7044    5.6185 N   0  0  0  0  0  0  0  0  0  0  0  0\\n    6.7817    9.4078    4.2212 C   0  0  0  0  0  0  0  0  0  0  0  0\\n    6.6880    8.4346    4.0641 H   0  0  0  0  0  0  0  0  0  0  0  0\\n    7.7211    9.6584    4.0353 H   0  0  0  0  0  0  0  0  0  0  0  0\\n    5.8606   10.1659    3.2709 C   0  0  0  0  0  0  0  0  0  0  0  0\\n    4.9481    9.7881    3.3370 H   0  0  0  0  0  0  0  0  0  0  0  0\\n    6.1771   10.0349    2.3425 H   0  0  0  0  0  0  0  0  0  0  0  0\\n    5.8048   11.6671    3.5752 C   0  0  0  0  0  0  0  0  0  0  0  0\\n    5.4713   11.8652    5.0565 C   0  0  0  0  0  0  0  0  0  0  0  0\\n    5.4979   12.8318    5.2707 H   0  0  0  0  0  0  0  0  0  0  0  0\\n    4.5530   11.5390    5.2309 H   0  0  0  0  0  0  0  0  0  0  0  0\\n    6.4441   11.1255    5.9611 C   0  0  0  0  0  0  0  0  0  0  0  0\\n    7.3512   11.5077    5.8563 H   0  0  0  0  0  0  0  0  0  0  0  0\\n    6.1691   11.2357    6.9060 H   0  0  0  0  0  0  0  0  0  0  0  0\\n    6.5702    8.8101    6.6282 C   0  0  0  0  0  0  0  0  0  0  0  0\\n    6.7836    6.4272    7.1314 C   0  0  0  0  0  0  0  0  0  0  0  0\\n    5.5008    6.3404    7.9405 C   0  0  0  0  0  0  0  0  0  0  0  0\\n    5.4773    7.0707    8.5944 H   0  0  0  0  0  0  0  0  0  0  0  0\\n    5.4670    5.4808    8.4088 H   0  0  0  0  0  0  0  0  0  0  0  0\\n    4.7305    6.4159    7.3392 H   0  0  0  0  0  0  0  0  0  0  0  0\\n    8.0100    6.5469    8.0050 C   0  0  0  0  0  0  0  0  0  0  0  0\\n    8.8070    6.6209    7.4408 H   0  0  0  0  0  0  0  0  0  0  0  0\\n    8.0854    5.7528    8.5745 H   0  0  0  0  0  0  0  0  0  0  0  0\\n    7.9330    7.3447    8.5679 H   0  0  0  0  0  0  0  0  0  0  0  0\\n    6.9102    5.2407    6.1991 C   0  0  0  0  0  0  0  0  0  0  0  0\\n    6.1015    5.1691    5.6486 H   0  0  0  0  0  0  0  0  0  0  0  0\\n    7.0202    4.4223    6.7248 H   0  0  0  0  0  0  0  0  0  0  0  0\\n    7.6902    5.3637    5.6176 H   0  0  0  0  0  0  0  0  0  0  0  0\\n    4.8505   12.4086    2.6051 C   0  0  0  0  0  0  0  0  0  0  0  0\\n    5.3639   13.0241    1.4356 C   0  0  0  0  0  0  0  0  0  0  0  0\\n    4.5199   13.8180    0.6548 C   0  0  0  0  0  0  0  0  0  0  0  0\\n    4.8828   14.2481   -0.1105 H   0  0  0  0  0  0  0  0  0  0  0  0\\n    3.1826   14.0054    0.9439 C   0  0  0  0  0  0  0  0  0  0  0  0\\n    2.6787   13.3142    2.0177 C   0  0  0  0  0  0  0  0  0  0  0  0\\n    1.7536   13.3987    2.2166 H   0  0  0  0  0  0  0  0  0  0  0  0\\n    3.4647   12.4938    2.8294 C   0  0  0  0  0  0  0  0  0  0  0  0\\n    6.7745   12.8837    0.8944 C   0  0  0  0  0  0  0  0  0  0  0  0\\n    7.3775   13.4699    1.3967 H   0  0  0  0  0  0  0  0  0  0  0  0\\n    6.7876   13.1352   -0.0530 H   0  0  0  0  0  0  0  0  0  0  0  0\\n    7.0694   11.9532    0.9900 H   0  0  0  0  0  0  0  0  0  0  0  0\\n    2.3136   14.9064    0.0924 C   0  0  0  0  0  0  0  0  0  0  0  0\\n    2.8211   15.7061   -0.1591 H   0  0  0  0  0  0  0  0  0  0  0  0\\n    1.5188   15.1706    0.6011 H   0  0  0  0  0  0  0  0  0  0  0  0\\n    2.0388   14.4259   -0.7160 H   0  0  0  0  0  0  0  0  0  0  0  0\\n    2.6644   11.7283    3.8744 C   0  0  0  0  0  0  0  0  0  0  0  0\\n    3.0834   10.8571    4.0331 H   0  0  0  0  0  0  0  0  0  0  0  0\\n    1.7479   11.5955    3.5514 H   0  0  0  0  0  0  0  0  0  0  0  0\\n    2.6459   12.2398    4.7116 H   0  0  0  0  0  0  0  0  0  0  0  0\\n    6.7264    7.1037   13.7937 O   0  0  0  0  0  0  0  0  0  0  0  0\\n    7.3184    8.8817   15.0839 O   0  0  0  0  0  0  0  0  0  0  0  0\\n    6.9942   10.7686   10.0326 O   0  0  0  0  0  0  0  0  0  0  0  0\\n    6.8438   10.3592    9.3149 H   0  0  0  0  0  0  0  0  0  0  0  0\\n    6.7297    9.1425   12.9002 N   0  0  0  0  0  0  0  0  0  0  0  0\\n    7.1945   10.5403   12.8512 C   0  0  0  0  0  0  0  0  0  0  0  0\\n    8.0579   10.5830   12.3690 H   0  0  0  0  0  0  0  0  0  0  0  0\\n    7.3420   10.8717   13.7723 H   0  0  0  0  0  0  0  0  0  0  0  0\\n    6.1783   11.4315   12.1498 C   0  0  0  0  0  0  0  0  0  0  0  0\\n    6.5609   12.3381   12.0397 H   0  0  0  0  0  0  0  0  0  0  0  0\\n    5.3685   11.5097   12.7137 H   0  0  0  0  0  0  0  0  0  0  0  0\\n    5.7839   10.8834   10.7778 C   0  0  0  0  0  0  0  0  0  0  0  0\\n    5.2746    9.4383   10.9619 C   0  0  0  0  0  0  0  0  0  0  0  0\\n    4.4671    9.4429   11.5336 H   0  0  0  0  0  0  0  0  0  0  0  0\\n    5.0249    9.0601   10.0817 H   0  0  0  0  0  0  0  0  0  0  0  0\\n    6.3516    8.5700   11.6039 C   0  0  0  0  0  0  0  0  0  0  0  0\\n    6.0088    7.6502   11.7303 H   0  0  0  0  0  0  0  0  0  0  0  0\\n    7.1439    8.5267   11.0121 H   0  0  0  0  0  0  0  0  0  0  0  0\\n    6.9558    8.4164   14.0107 C   0  0  0  0  0  0  0  0  0  0  0  0\\n    6.8447    6.1049   14.8770 C   0  0  0  0  0  0  0  0  0  0  0  0\\n    5.7206    6.2952   15.8697 C   0  0  0  0  0  0  0  0  0  0  0  0\\n    5.8266    7.1586   16.3225 H   0  0  0  0  0  0  0  0  0  0  0  0\\n    5.7453    5.5750   16.5325 H   0  0  0  0  0  0  0  0  0  0  0  0\\n    4.8622    6.2758   15.3988 H   0  0  0  0  0  0  0  0  0  0  0  0\\n    6.6536    4.7978   14.1192 C   0  0  0  0  0  0  0  0  0  0  0  0\\n    5.7854    4.8072   13.6640 H   0  0  0  0  0  0  0  0  0  0  0  0\\n    6.6834    4.0479   14.7491 H   0  0  0  0  0  0  0  0  0  0  0  0\\n    7.3684    4.6964   13.4563 H   0  0  0  0  0  0  0  0  0  0  0  0\\n    8.2092    6.1469   15.5312 C   0  0  0  0  0  0  0  0  0  0  0  0\\n    8.9009    6.2172   14.8397 H   0  0  0  0  0  0  0  0  0  0  0  0\\n    8.3477    5.3281   16.0507 H   0  0  0  0  0  0  0  0  0  0  0  0\\n    8.2629    6.9243   16.1259 H   0  0  0  0  0  0  0  0  0  0  0  0\\n    4.8086   11.8470   10.0541 C   0  0  0  0  0  0  0  0  0  0  0  0\\n    5.3276   12.8134    9.1588 C   0  0  0  0  0  0  0  0  0  0  0  0\\n    4.4436   13.5977    8.4163 C   0  0  0  0  0  0  0  0  0  0  0  0\\n    4.8038   14.2146    7.7900 H   0  0  0  0  0  0  0  0  0  0  0  0\\n    3.0751   13.5205    8.5476 C   0  0  0  0  0  0  0  0  0  0  0  0\\n    2.5885   12.6659    9.5179 C   0  0  0  0  0  0  0  0  0  0  0  0\\n    1.6517   12.6415    9.6751 H   0  0  0  0  0  0  0  0  0  0  0  0\\n    3.4129   11.8371   10.2768 C   0  0  0  0  0  0  0  0  0  0  0  0\\n    6.7954   13.1703    8.9847 C   0  0  0  0  0  0  0  0  0  0  0  0\\n    7.2492   13.1163    9.8519 H   0  0  0  0  0  0  0  0  0  0  0  0\\n    6.8701   14.0828    8.6320 H   0  0  0  0  0  0  0  0  0  0  0  0\\n    7.2126   12.5432    8.3580 H   0  0  0  0  0  0  0  0  0  0  0  0\\n    2.1535   14.3598    7.7001 C   0  0  0  0  0  0  0  0  0  0  0  0\\n    2.5806   15.2208    7.5071 H   0  0  0  0  0  0  0  0  0  0  0  0\\n    1.3138   14.5116    8.1834 H   0  0  0  0  0  0  0  0  0  0  0  0\\n    1.9667   13.8924    6.8596 H   0  0  0  0  0  0  0  0  0  0  0  0\\n    2.6900   11.0119   11.3261 C   0  0  0  0  0  0  0  0  0  0  0  0\\n    2.5565   10.1019   10.9900 H   0  0  0  0  0  0  0  0  0  0  0  0\\n    1.8200   11.4198   11.5204 H   0  0  0  0  0  0  0  0  0  0  0  0\\n    3.2266   10.9826   12.1458 H   0  0  0  0  0  0  0  0  0  0  0  0\\n   -1.0902   13.6090    9.8921 O   0  0  0  0  0  0  0  0  0  0  0  0\\n   -1.4416   11.7806   11.1968 O   0  0  0  0  0  0  0  0  0  0  0  0\\n   -1.5698    9.9492    6.0375 O   0  0  0  0  0  0  0  0  0  0  0  0\\n   -1.5108   10.4973    5.4055 H   0  0  0  0  0  0  0  0  0  0  0  0\\n   -1.1878   11.5980    8.9381 N   0  0  0  0  0  0  0  0  0  0  0  0\\n   -0.9365   12.1917    7.6329 C   0  0  0  0  0  0  0  0  0  0  0  0\\n   -0.6185   13.1226    7.7436 H   0  0  0  0  0  0  0  0  0  0  0  0\\n   -1.7742   12.2105    7.1071 H   0  0  0  0  0  0  0  0  0  0  0  0\\n    0.1153   11.3715    6.8996 C   0  0  0  0  0  0  0  0  0  0  0  0\\n    0.9690   11.4072    7.4011 H   0  0  0  0  0  0  0  0  0  0  0  0\\n    0.2703   11.7629    6.0022 H   0  0  0  0  0  0  0  0  0  0  0  0\\n   -0.3249    9.9040    6.7482 C   0  0  0  0  0  0  0  0  0  0  0  0\\n   -0.6631    9.3321    8.1294 C   0  0  0  0  0  0  0  0  0  0  0  0\\n   -1.0480    8.4263    8.0220 H   0  0  0  0  0  0  0  0  0  0  0  0\\n    0.1684    9.2484    8.6607 H   0  0  0  0  0  0  0  0  0  0  0  0\\n   -1.6490   10.2079    8.8819 C   0  0  0  0  0  0  0  0  0  0  0  0\\n   -2.5302   10.1709    8.4331 H   0  0  0  0  0  0  0  0  0  0  0  0\\n   -1.7605    9.8613    9.8032 H   0  0  0  0  0  0  0  0  0  0  0  0\\n   -1.2635   12.2794   10.1082 C   0  0  0  0  0  0  0  0  0  0  0  0\\n   -1.1055   14.5623   11.0154 C   0  0  0  0  0  0  0  0  0  0  0  0\\n    0.0605   14.2907   11.9418 C   0  0  0  0  0  0  0  0  0  0  0  0\\n   -0.0905   13.4469   12.4176 H   0  0  0  0  0  0  0  0  0  0  0  0\\n    0.1409   15.0221   12.5900 H   0  0  0  0  0  0  0  0  0  0  0  0\\n    0.8865   14.2271   11.4165 H   0  0  0  0  0  0  0  0  0  0  0  0\\n   -2.4269   14.5349   11.7491 C   0  0  0  0  0  0  0  0  0  0  0  0\\n   -3.1556   14.6999   11.1159 H   0  0  0  0  0  0  0  0  0  0  0  0\\n   -2.4305   15.2292   12.4419 H   0  0  0  0  0  0  0  0  0  0  0  0\\n   -2.5508   13.6561   12.1657 H   0  0  0  0  0  0  0  0  0  0  0  0\\n   -0.9175   15.8925   10.3071 C   0  0  0  0  0  0  0  0  0  0  0  0\\n   -0.0389   15.9091    9.8718 H   0  0  0  0  0  0  0  0  0  0  0  0\\n   -0.9724   16.6203   10.9590 H   0  0  0  0  0  0  0  0  0  0  0  0\\n   -1.6185   16.0053    9.6309 H   0  0  0  0  0  0  0  0  0  0  0  0\\n    0.7022    9.0201    6.0055 C   0  0  0  0  0  0  0  0  0  0  0  0\\n    0.2802    8.0953    5.0168 C   0  0  0  0  0  0  0  0  0  0  0  0\\n    1.2295    7.3983    4.2740 C   0  0  0  0  0  0  0  0  0  0  0  0\\n    0.9289    6.8092    3.5911 H   0  0  0  0  0  0  0  0  0  0  0  0\\n    2.5920    7.5255    4.4855 C   0  0  0  0  0  0  0  0  0  0  0  0\\n    2.9822    8.3334    5.5288 C   0  0  0  0  0  0  0  0  0  0  0  0\\n    3.9081    8.3907    5.7348 H   0  0  0  0  0  0  0  0  0  0  0  0\\n    2.0859    9.0714    6.2987 C   0  0  0  0  0  0  0  0  0  0  0  0\\n   -1.1573    7.6955    4.7173 C   0  0  0  0  0  0  0  0  0  0  0  0\\n   -1.6585    7.6250    5.5558 H   0  0  0  0  0  0  0  0  0  0  0  0\\n   -1.1672    6.8301    4.2563 H   0  0  0  0  0  0  0  0  0  0  0  0\\n   -1.5726    8.3740    4.1458 H   0  0  0  0  0  0  0  0  0  0  0  0\\n    3.5943    6.7826    3.6406 C   0  0  0  0  0  0  0  0  0  0  0  0\\n    3.3457    5.8365    3.5978 H   0  0  0  0  0  0  0  0  0  0  0  0\\n    4.4854    6.8678    4.0398 H   0  0  0  0  0  0  0  0  0  0  0  0\\n    3.6034    7.1606    2.7359 H   0  0  0  0  0  0  0  0  0  0  0  0\\n    2.7309    9.8272    7.4464 C   0  0  0  0  0  0  0  0  0  0  0  0\\n    2.9150   10.7483    7.1690 H   0  0  0  0  0  0  0  0  0  0  0  0\\n    3.5702    9.3864    7.6972 H   0  0  0  0  0  0  0  0  0  0  0  0\\n    2.1236    9.8341    8.2143 H   0  0  0  0  0  0  0  0  0  0  0  0\\n  1 19  1  0\\n  1 20  1  0\\n  3 12  1  0\\n  3  4  1  0\\n  5 16  1  0\\n  5 19  1  0\\n  6  5  1  0\\n  7  6  1  0\\n  8  6  1  0\\n  9 10  1  0\\n  9 12  1  0\\n  9  6  1  0\\n 11  9  1  0\\n 12 13  1  0\\n 13 15  1  0\\n 13 14  1  0\\n 13 16  1  0\\n 16 18  1  0\\n 17 16  1  0\\n 19  2  2  0\\n 20 21  1  0\\n 20 25  1  0\\n 21 23  1  0\\n 21 22  1  0\\n 24 21  1  0\\n 25 28  1  0\\n 25 27  1  0\\n 26 25  1  0\\n 29 31  1  0\\n 29 20  1  0\\n 30 29  1  0\\n 32 29  1  0\\n 33 40  1  0\\n 33 12  1  0\\n 34 33  2  0\\n 35 37  2  0\\n 35 34  1  0\\n 36 35  1  0\\n 37 38  1  0\\n 38 39  1  0\\n 38 40  2  0\\n 40 49  1  0\\n 41 44  1  0\\n 41 42  1  0\\n 41 34  1  0\\n 43 41  1  0\\n 45 47  1  0\\n 45 37  1  0\\n 46 45  1  0\\n 48 45  1  0\\n 49 50  1  0\\n 49 52  1  0\\n 51 49  1  0\\n 53 71  1  0\\n 53 72  1  0\\n 55 64  1  0\\n 56 55  1  0\\n 57 71  1  0\\n 58 57  1  0\\n 58 60  1  0\\n 59 58  1  0\\n 61 63  1  0\\n 61 58  1  0\\n 62 61  1  0\\n 64 65  1  0\\n 64 61  1  0\\n 65 66  1  0\\n 65 68  1  0\\n 67 65  1  0\\n 68 69  1  0\\n 68 57  1  0\\n 70 68  1  0\\n 71 54  2  0\\n 72 81  1  0\\n 72 73  1  0\\n 73 74  1  0\\n 73 75  1  0\\n 76 73  1  0\\n 77 79  1  0\\n 77 72  1  0\\n 78 77  1  0\\n 80 77  1  0\\n 81 83  1  0\\n 81 84  1  0\\n 82 81  1  0\\n 85 92  1  0\\n 85 64  1  0\\n 86 85  2  0\\n 87 89  2  0\\n 87 86  1  0\\n 88 87  1  0\\n 89 90  1  0\\n 90 91  1  0\\n 90 92  2  0\\n 92101  1  0\\n 93 86  1  0\\n 93 94  1  0\\n 95 93  1  0\\n 96 93  1  0\\n 97 99  1  0\\n 97 89  1  0\\n 98 97  1  0\\n100 97  1  0\\n101103  1  0\\n101104  1  0\\n102101  1  0\\n105123  1  0\\n105124  1  0\\n107116  1  0\\n108107  1  0\\n109123  1  0\\n110111  1  0\\n110109  1  0\\n112110  1  0\\n113114  1  0\\n113110  1  0\\n115113  1  0\\n116113  1  0\\n116117  1  0\\n117119  1  0\\n117120  1  0\\n118117  1  0\\n120109  1  0\\n120122  1  0\\n121120  1  0\\n123106  2  0\\n124129  1  0\\n124125  1  0\\n125126  1  0\\n125127  1  0\\n128125  1  0\\n129132  1  0\\n129131  1  0\\n130129  1  0\\n133135  1  0\\n133124  1  0\\n134133  1  0\\n136133  1  0\\n137144  1  0\\n137116  1  0\\n138137  2  0\\n139141  2  0\\n139138  1  0\\n140139  1  0\\n141142  1  0\\n142143  1  0\\n142144  2  0\\n144153  1  0\\n145138  1  0\\n145146  1  0\\n147145  1  0\\n148145  1  0\\n149151  1  0\\n149141  1  0\\n150149  1  0\\n152149  1  0\\n153155  1  0\\n153156  1  0\\n154153  1  0\\nM  END\\n\",\"mol\");\n\tviewer_1611794340751316.setStyle({\"stick\": {}});\n\tviewer_1611794340751316.zoomTo();\nviewer_1611794340751316.render();\n});\n</script>",
      "text/html": "<div id=\"3dmolviewer_1611794340751316\"  style=\"position: relative; width: 300px; height: 300px\">\n        <p id=\"3dmolwarning_1611794340751316\" style=\"background-color:#ffcccc;color:black\">You appear to be running in JupyterLab (or JavaScript failed to load for some other reason).  You need to install the 3dmol extension: <br>\n        <tt>jupyter labextension install jupyterlab_3dmol</tt></p>\n        </div>\n<script>\n\nvar loadScriptAsync = function(uri){\n  return new Promise((resolve, reject) => {\n    var tag = document.createElement('script');\n    tag.src = uri;\n    tag.async = true;\n    tag.onload = () => {\n      resolve();\n    };\n  var firstScriptTag = document.getElementsByTagName('script')[0];\n  firstScriptTag.parentNode.insertBefore(tag, firstScriptTag);\n});\n};\n\nif(typeof $3Dmolpromise === 'undefined') {\n$3Dmolpromise = null;\n  $3Dmolpromise = loadScriptAsync('https://3dmol.csb.pitt.edu/build/3Dmol.js');\n}\n\nvar viewer_1611794340751316 = null;\nvar warn = document.getElementById(\"3dmolwarning_1611794340751316\");\nif(warn) {\n    warn.parentNode.removeChild(warn);\n}\n$3Dmolpromise.then(function() {\nviewer_1611794340751316 = $3Dmol.createViewer($(\"#3dmolviewer_1611794340751316\"),{backgroundColor:\"white\"});\n\tviewer_1611794340751316.addModel(\"?\\n     RDKit          3D\\n\\n156159  0  0  0  0  0  0  0  0999 V2000\\n    6.7116    7.5612    6.1763 O   0  0  0  0  0  0  0  0  0  0  0  0\\n    6.4874    9.1026    7.8099 O   0  0  0  0  0  0  0  0  0  0  0  0\\n    7.0851   12.2639    3.3688 O   0  0  0  0  0  0  0  0  0  0  0  0\\n    7.6513   11.8884    3.8630 H   0  0  0  0  0  0  0  0  0  0  0  0\\n    6.4672    9.7044    5.6185 N   0  0  0  0  0  0  0  0  0  0  0  0\\n    6.7817    9.4078    4.2212 C   0  0  0  0  0  0  0  0  0  0  0  0\\n    6.6880    8.4346    4.0641 H   0  0  0  0  0  0  0  0  0  0  0  0\\n    7.7211    9.6584    4.0353 H   0  0  0  0  0  0  0  0  0  0  0  0\\n    5.8606   10.1659    3.2709 C   0  0  0  0  0  0  0  0  0  0  0  0\\n    4.9481    9.7881    3.3370 H   0  0  0  0  0  0  0  0  0  0  0  0\\n    6.1771   10.0349    2.3425 H   0  0  0  0  0  0  0  0  0  0  0  0\\n    5.8048   11.6671    3.5752 C   0  0  0  0  0  0  0  0  0  0  0  0\\n    5.4713   11.8652    5.0565 C   0  0  0  0  0  0  0  0  0  0  0  0\\n    5.4979   12.8318    5.2707 H   0  0  0  0  0  0  0  0  0  0  0  0\\n    4.5530   11.5390    5.2309 H   0  0  0  0  0  0  0  0  0  0  0  0\\n    6.4441   11.1255    5.9611 C   0  0  0  0  0  0  0  0  0  0  0  0\\n    7.3512   11.5077    5.8563 H   0  0  0  0  0  0  0  0  0  0  0  0\\n    6.1691   11.2357    6.9060 H   0  0  0  0  0  0  0  0  0  0  0  0\\n    6.5702    8.8101    6.6282 C   0  0  0  0  0  0  0  0  0  0  0  0\\n    6.7836    6.4272    7.1314 C   0  0  0  0  0  0  0  0  0  0  0  0\\n    5.5008    6.3404    7.9405 C   0  0  0  0  0  0  0  0  0  0  0  0\\n    5.4773    7.0707    8.5944 H   0  0  0  0  0  0  0  0  0  0  0  0\\n    5.4670    5.4808    8.4088 H   0  0  0  0  0  0  0  0  0  0  0  0\\n    4.7305    6.4159    7.3392 H   0  0  0  0  0  0  0  0  0  0  0  0\\n    8.0100    6.5469    8.0050 C   0  0  0  0  0  0  0  0  0  0  0  0\\n    8.8070    6.6209    7.4408 H   0  0  0  0  0  0  0  0  0  0  0  0\\n    8.0854    5.7528    8.5745 H   0  0  0  0  0  0  0  0  0  0  0  0\\n    7.9330    7.3447    8.5679 H   0  0  0  0  0  0  0  0  0  0  0  0\\n    6.9102    5.2407    6.1991 C   0  0  0  0  0  0  0  0  0  0  0  0\\n    6.1015    5.1691    5.6486 H   0  0  0  0  0  0  0  0  0  0  0  0\\n    7.0202    4.4223    6.7248 H   0  0  0  0  0  0  0  0  0  0  0  0\\n    7.6902    5.3637    5.6176 H   0  0  0  0  0  0  0  0  0  0  0  0\\n    4.8505   12.4086    2.6051 C   0  0  0  0  0  0  0  0  0  0  0  0\\n    5.3639   13.0241    1.4356 C   0  0  0  0  0  0  0  0  0  0  0  0\\n    4.5199   13.8180    0.6548 C   0  0  0  0  0  0  0  0  0  0  0  0\\n    4.8828   14.2481   -0.1105 H   0  0  0  0  0  0  0  0  0  0  0  0\\n    3.1826   14.0054    0.9439 C   0  0  0  0  0  0  0  0  0  0  0  0\\n    2.6787   13.3142    2.0177 C   0  0  0  0  0  0  0  0  0  0  0  0\\n    1.7536   13.3987    2.2166 H   0  0  0  0  0  0  0  0  0  0  0  0\\n    3.4647   12.4938    2.8294 C   0  0  0  0  0  0  0  0  0  0  0  0\\n    6.7745   12.8837    0.8944 C   0  0  0  0  0  0  0  0  0  0  0  0\\n    7.3775   13.4699    1.3967 H   0  0  0  0  0  0  0  0  0  0  0  0\\n    6.7876   13.1352   -0.0530 H   0  0  0  0  0  0  0  0  0  0  0  0\\n    7.0694   11.9532    0.9900 H   0  0  0  0  0  0  0  0  0  0  0  0\\n    2.3136   14.9064    0.0924 C   0  0  0  0  0  0  0  0  0  0  0  0\\n    2.8211   15.7061   -0.1591 H   0  0  0  0  0  0  0  0  0  0  0  0\\n    1.5188   15.1706    0.6011 H   0  0  0  0  0  0  0  0  0  0  0  0\\n    2.0388   14.4259   -0.7160 H   0  0  0  0  0  0  0  0  0  0  0  0\\n    2.6644   11.7283    3.8744 C   0  0  0  0  0  0  0  0  0  0  0  0\\n    3.0834   10.8571    4.0331 H   0  0  0  0  0  0  0  0  0  0  0  0\\n    1.7479   11.5955    3.5514 H   0  0  0  0  0  0  0  0  0  0  0  0\\n    2.6459   12.2398    4.7116 H   0  0  0  0  0  0  0  0  0  0  0  0\\n    6.7264    7.1037   13.7937 O   0  0  0  0  0  0  0  0  0  0  0  0\\n    7.3184    8.8817   15.0839 O   0  0  0  0  0  0  0  0  0  0  0  0\\n    6.9942   10.7686   10.0326 O   0  0  0  0  0  0  0  0  0  0  0  0\\n    6.8438   10.3592    9.3149 H   0  0  0  0  0  0  0  0  0  0  0  0\\n    6.7297    9.1425   12.9002 N   0  0  0  0  0  0  0  0  0  0  0  0\\n    7.1945   10.5403   12.8512 C   0  0  0  0  0  0  0  0  0  0  0  0\\n    8.0579   10.5830   12.3690 H   0  0  0  0  0  0  0  0  0  0  0  0\\n    7.3420   10.8717   13.7723 H   0  0  0  0  0  0  0  0  0  0  0  0\\n    6.1783   11.4315   12.1498 C   0  0  0  0  0  0  0  0  0  0  0  0\\n    6.5609   12.3381   12.0397 H   0  0  0  0  0  0  0  0  0  0  0  0\\n    5.3685   11.5097   12.7137 H   0  0  0  0  0  0  0  0  0  0  0  0\\n    5.7839   10.8834   10.7778 C   0  0  0  0  0  0  0  0  0  0  0  0\\n    5.2746    9.4383   10.9619 C   0  0  0  0  0  0  0  0  0  0  0  0\\n    4.4671    9.4429   11.5336 H   0  0  0  0  0  0  0  0  0  0  0  0\\n    5.0249    9.0601   10.0817 H   0  0  0  0  0  0  0  0  0  0  0  0\\n    6.3516    8.5700   11.6039 C   0  0  0  0  0  0  0  0  0  0  0  0\\n    6.0088    7.6502   11.7303 H   0  0  0  0  0  0  0  0  0  0  0  0\\n    7.1439    8.5267   11.0121 H   0  0  0  0  0  0  0  0  0  0  0  0\\n    6.9558    8.4164   14.0107 C   0  0  0  0  0  0  0  0  0  0  0  0\\n    6.8447    6.1049   14.8770 C   0  0  0  0  0  0  0  0  0  0  0  0\\n    5.7206    6.2952   15.8697 C   0  0  0  0  0  0  0  0  0  0  0  0\\n    5.8266    7.1586   16.3225 H   0  0  0  0  0  0  0  0  0  0  0  0\\n    5.7453    5.5750   16.5325 H   0  0  0  0  0  0  0  0  0  0  0  0\\n    4.8622    6.2758   15.3988 H   0  0  0  0  0  0  0  0  0  0  0  0\\n    6.6536    4.7978   14.1192 C   0  0  0  0  0  0  0  0  0  0  0  0\\n    5.7854    4.8072   13.6640 H   0  0  0  0  0  0  0  0  0  0  0  0\\n    6.6834    4.0479   14.7491 H   0  0  0  0  0  0  0  0  0  0  0  0\\n    7.3684    4.6964   13.4563 H   0  0  0  0  0  0  0  0  0  0  0  0\\n    8.2092    6.1469   15.5312 C   0  0  0  0  0  0  0  0  0  0  0  0\\n    8.9009    6.2172   14.8397 H   0  0  0  0  0  0  0  0  0  0  0  0\\n    8.3477    5.3281   16.0507 H   0  0  0  0  0  0  0  0  0  0  0  0\\n    8.2629    6.9243   16.1259 H   0  0  0  0  0  0  0  0  0  0  0  0\\n    4.8086   11.8470   10.0541 C   0  0  0  0  0  0  0  0  0  0  0  0\\n    5.3276   12.8134    9.1588 C   0  0  0  0  0  0  0  0  0  0  0  0\\n    4.4436   13.5977    8.4163 C   0  0  0  0  0  0  0  0  0  0  0  0\\n    4.8038   14.2146    7.7900 H   0  0  0  0  0  0  0  0  0  0  0  0\\n    3.0751   13.5205    8.5476 C   0  0  0  0  0  0  0  0  0  0  0  0\\n    2.5885   12.6659    9.5179 C   0  0  0  0  0  0  0  0  0  0  0  0\\n    1.6517   12.6415    9.6751 H   0  0  0  0  0  0  0  0  0  0  0  0\\n    3.4129   11.8371   10.2768 C   0  0  0  0  0  0  0  0  0  0  0  0\\n    6.7954   13.1703    8.9847 C   0  0  0  0  0  0  0  0  0  0  0  0\\n    7.2492   13.1163    9.8519 H   0  0  0  0  0  0  0  0  0  0  0  0\\n    6.8701   14.0828    8.6320 H   0  0  0  0  0  0  0  0  0  0  0  0\\n    7.2126   12.5432    8.3580 H   0  0  0  0  0  0  0  0  0  0  0  0\\n    2.1535   14.3598    7.7001 C   0  0  0  0  0  0  0  0  0  0  0  0\\n    2.5806   15.2208    7.5071 H   0  0  0  0  0  0  0  0  0  0  0  0\\n    1.3138   14.5116    8.1834 H   0  0  0  0  0  0  0  0  0  0  0  0\\n    1.9667   13.8924    6.8596 H   0  0  0  0  0  0  0  0  0  0  0  0\\n    2.6900   11.0119   11.3261 C   0  0  0  0  0  0  0  0  0  0  0  0\\n    2.5565   10.1019   10.9900 H   0  0  0  0  0  0  0  0  0  0  0  0\\n    1.8200   11.4198   11.5204 H   0  0  0  0  0  0  0  0  0  0  0  0\\n    3.2266   10.9826   12.1458 H   0  0  0  0  0  0  0  0  0  0  0  0\\n   -1.0902   13.6090    9.8921 O   0  0  0  0  0  0  0  0  0  0  0  0\\n   -1.4416   11.7806   11.1968 O   0  0  0  0  0  0  0  0  0  0  0  0\\n   -1.5698    9.9492    6.0375 O   0  0  0  0  0  0  0  0  0  0  0  0\\n   -1.5108   10.4973    5.4055 H   0  0  0  0  0  0  0  0  0  0  0  0\\n   -1.1878   11.5980    8.9381 N   0  0  0  0  0  0  0  0  0  0  0  0\\n   -0.9365   12.1917    7.6329 C   0  0  0  0  0  0  0  0  0  0  0  0\\n   -0.6185   13.1226    7.7436 H   0  0  0  0  0  0  0  0  0  0  0  0\\n   -1.7742   12.2105    7.1071 H   0  0  0  0  0  0  0  0  0  0  0  0\\n    0.1153   11.3715    6.8996 C   0  0  0  0  0  0  0  0  0  0  0  0\\n    0.9690   11.4072    7.4011 H   0  0  0  0  0  0  0  0  0  0  0  0\\n    0.2703   11.7629    6.0022 H   0  0  0  0  0  0  0  0  0  0  0  0\\n   -0.3249    9.9040    6.7482 C   0  0  0  0  0  0  0  0  0  0  0  0\\n   -0.6631    9.3321    8.1294 C   0  0  0  0  0  0  0  0  0  0  0  0\\n   -1.0480    8.4263    8.0220 H   0  0  0  0  0  0  0  0  0  0  0  0\\n    0.1684    9.2484    8.6607 H   0  0  0  0  0  0  0  0  0  0  0  0\\n   -1.6490   10.2079    8.8819 C   0  0  0  0  0  0  0  0  0  0  0  0\\n   -2.5302   10.1709    8.4331 H   0  0  0  0  0  0  0  0  0  0  0  0\\n   -1.7605    9.8613    9.8032 H   0  0  0  0  0  0  0  0  0  0  0  0\\n   -1.2635   12.2794   10.1082 C   0  0  0  0  0  0  0  0  0  0  0  0\\n   -1.1055   14.5623   11.0154 C   0  0  0  0  0  0  0  0  0  0  0  0\\n    0.0605   14.2907   11.9418 C   0  0  0  0  0  0  0  0  0  0  0  0\\n   -0.0905   13.4469   12.4176 H   0  0  0  0  0  0  0  0  0  0  0  0\\n    0.1409   15.0221   12.5900 H   0  0  0  0  0  0  0  0  0  0  0  0\\n    0.8865   14.2271   11.4165 H   0  0  0  0  0  0  0  0  0  0  0  0\\n   -2.4269   14.5349   11.7491 C   0  0  0  0  0  0  0  0  0  0  0  0\\n   -3.1556   14.6999   11.1159 H   0  0  0  0  0  0  0  0  0  0  0  0\\n   -2.4305   15.2292   12.4419 H   0  0  0  0  0  0  0  0  0  0  0  0\\n   -2.5508   13.6561   12.1657 H   0  0  0  0  0  0  0  0  0  0  0  0\\n   -0.9175   15.8925   10.3071 C   0  0  0  0  0  0  0  0  0  0  0  0\\n   -0.0389   15.9091    9.8718 H   0  0  0  0  0  0  0  0  0  0  0  0\\n   -0.9724   16.6203   10.9590 H   0  0  0  0  0  0  0  0  0  0  0  0\\n   -1.6185   16.0053    9.6309 H   0  0  0  0  0  0  0  0  0  0  0  0\\n    0.7022    9.0201    6.0055 C   0  0  0  0  0  0  0  0  0  0  0  0\\n    0.2802    8.0953    5.0168 C   0  0  0  0  0  0  0  0  0  0  0  0\\n    1.2295    7.3983    4.2740 C   0  0  0  0  0  0  0  0  0  0  0  0\\n    0.9289    6.8092    3.5911 H   0  0  0  0  0  0  0  0  0  0  0  0\\n    2.5920    7.5255    4.4855 C   0  0  0  0  0  0  0  0  0  0  0  0\\n    2.9822    8.3334    5.5288 C   0  0  0  0  0  0  0  0  0  0  0  0\\n    3.9081    8.3907    5.7348 H   0  0  0  0  0  0  0  0  0  0  0  0\\n    2.0859    9.0714    6.2987 C   0  0  0  0  0  0  0  0  0  0  0  0\\n   -1.1573    7.6955    4.7173 C   0  0  0  0  0  0  0  0  0  0  0  0\\n   -1.6585    7.6250    5.5558 H   0  0  0  0  0  0  0  0  0  0  0  0\\n   -1.1672    6.8301    4.2563 H   0  0  0  0  0  0  0  0  0  0  0  0\\n   -1.5726    8.3740    4.1458 H   0  0  0  0  0  0  0  0  0  0  0  0\\n    3.5943    6.7826    3.6406 C   0  0  0  0  0  0  0  0  0  0  0  0\\n    3.3457    5.8365    3.5978 H   0  0  0  0  0  0  0  0  0  0  0  0\\n    4.4854    6.8678    4.0398 H   0  0  0  0  0  0  0  0  0  0  0  0\\n    3.6034    7.1606    2.7359 H   0  0  0  0  0  0  0  0  0  0  0  0\\n    2.7309    9.8272    7.4464 C   0  0  0  0  0  0  0  0  0  0  0  0\\n    2.9150   10.7483    7.1690 H   0  0  0  0  0  0  0  0  0  0  0  0\\n    3.5702    9.3864    7.6972 H   0  0  0  0  0  0  0  0  0  0  0  0\\n    2.1236    9.8341    8.2143 H   0  0  0  0  0  0  0  0  0  0  0  0\\n  1 19  1  0\\n  1 20  1  0\\n  3 12  1  0\\n  3  4  1  0\\n  5 16  1  0\\n  5 19  1  0\\n  6  5  1  0\\n  7  6  1  0\\n  8  6  1  0\\n  9 10  1  0\\n  9 12  1  0\\n  9  6  1  0\\n 11  9  1  0\\n 12 13  1  0\\n 13 15  1  0\\n 13 14  1  0\\n 13 16  1  0\\n 16 18  1  0\\n 17 16  1  0\\n 19  2  2  0\\n 20 21  1  0\\n 20 25  1  0\\n 21 23  1  0\\n 21 22  1  0\\n 24 21  1  0\\n 25 28  1  0\\n 25 27  1  0\\n 26 25  1  0\\n 29 31  1  0\\n 29 20  1  0\\n 30 29  1  0\\n 32 29  1  0\\n 33 40  1  0\\n 33 12  1  0\\n 34 33  2  0\\n 35 37  2  0\\n 35 34  1  0\\n 36 35  1  0\\n 37 38  1  0\\n 38 39  1  0\\n 38 40  2  0\\n 40 49  1  0\\n 41 44  1  0\\n 41 42  1  0\\n 41 34  1  0\\n 43 41  1  0\\n 45 47  1  0\\n 45 37  1  0\\n 46 45  1  0\\n 48 45  1  0\\n 49 50  1  0\\n 49 52  1  0\\n 51 49  1  0\\n 53 71  1  0\\n 53 72  1  0\\n 55 64  1  0\\n 56 55  1  0\\n 57 71  1  0\\n 58 57  1  0\\n 58 60  1  0\\n 59 58  1  0\\n 61 63  1  0\\n 61 58  1  0\\n 62 61  1  0\\n 64 65  1  0\\n 64 61  1  0\\n 65 66  1  0\\n 65 68  1  0\\n 67 65  1  0\\n 68 69  1  0\\n 68 57  1  0\\n 70 68  1  0\\n 71 54  2  0\\n 72 81  1  0\\n 72 73  1  0\\n 73 74  1  0\\n 73 75  1  0\\n 76 73  1  0\\n 77 79  1  0\\n 77 72  1  0\\n 78 77  1  0\\n 80 77  1  0\\n 81 83  1  0\\n 81 84  1  0\\n 82 81  1  0\\n 85 92  1  0\\n 85 64  1  0\\n 86 85  2  0\\n 87 89  2  0\\n 87 86  1  0\\n 88 87  1  0\\n 89 90  1  0\\n 90 91  1  0\\n 90 92  2  0\\n 92101  1  0\\n 93 86  1  0\\n 93 94  1  0\\n 95 93  1  0\\n 96 93  1  0\\n 97 99  1  0\\n 97 89  1  0\\n 98 97  1  0\\n100 97  1  0\\n101103  1  0\\n101104  1  0\\n102101  1  0\\n105123  1  0\\n105124  1  0\\n107116  1  0\\n108107  1  0\\n109123  1  0\\n110111  1  0\\n110109  1  0\\n112110  1  0\\n113114  1  0\\n113110  1  0\\n115113  1  0\\n116113  1  0\\n116117  1  0\\n117119  1  0\\n117120  1  0\\n118117  1  0\\n120109  1  0\\n120122  1  0\\n121120  1  0\\n123106  2  0\\n124129  1  0\\n124125  1  0\\n125126  1  0\\n125127  1  0\\n128125  1  0\\n129132  1  0\\n129131  1  0\\n130129  1  0\\n133135  1  0\\n133124  1  0\\n134133  1  0\\n136133  1  0\\n137144  1  0\\n137116  1  0\\n138137  2  0\\n139141  2  0\\n139138  1  0\\n140139  1  0\\n141142  1  0\\n142143  1  0\\n142144  2  0\\n144153  1  0\\n145138  1  0\\n145146  1  0\\n147145  1  0\\n148145  1  0\\n149151  1  0\\n149141  1  0\\n150149  1  0\\n152149  1  0\\n153155  1  0\\n153156  1  0\\n154153  1  0\\nM  END\\n\",\"mol\");\n\tviewer_1611794340751316.setStyle({\"stick\": {}});\n\tviewer_1611794340751316.zoomTo();\nviewer_1611794340751316.render();\n});\n</script>"
     },
     "metadata": {}
    },
    {
     "output_type": "execute_result",
     "data": {
      "text/plain": [
       "<py3Dmol.view at 0x7fc9906c7400>"
      ]
     },
     "metadata": {},
     "execution_count": 102
    }
   ],
   "source": [
    "#collapse-hide\n",
    "\n",
    "viewer = py3Dmol.view(width=300, height=300)\n",
    "viewer.addModel(molblock, 'mol')\n",
    "viewer.setStyle({\"stick\":{}})\n",
    "viewer.zoomTo()"
   ]
  },
  {
   "source": [
    "So good news, cif parsing seems to work (at least on this particular example). The bad news, how can I get to relevant molecules in the COD? \n",
    "\n",
    "## Extracting relevant molecules from the COD\n",
    "\n",
    "Thanks to researchgate I came across [this page](http://www.openmolecules.org/datawarrior/datafiles.html#cod) where they provide a datawarrior file of the content of the cod (at least a curated subpart of that). You can see that the COD contains organic, inorganic and metalorganic structures. \n",
    "\n",
    "![datawarrior screenshot](../images/datawarrior_example.png \"Example screenshot from datawarrior\")\n",
    "\n",
    "As you might already observe on the screenshot above, there's a lot of noise (for drug discovery) in there. \n",
    "\n",
    "So how can we filter out only the organic ones? I checked the individual cif files, and no easy way to get to this classification ... would have been too easy. So two solutions - either take the prepared datawarrior file (which I would not prefer, because I'm dependent on somebody else doing this nice work during his free-time, Thomas Sander), or trial and error and identify organic compounds with a set of rules. Good thing is, I can use Thomas Sanders work (the datawarrior file) to check if the filter works or not (+ visual inspection).\n",
    "\n",
    "The COD dump you can download via rsync is structured a bit like the PDB: with two levels of subfolders, numbered and 100 files max per subfolder. Basically I'll have to loop over all of this -> let's blow up the notebook ;) I'll loop over all molecules and try to run through sanitize. All failing molecules should not be added. Next I'm checking as well if there's at least a carbon atom in the structure (for a lot of them there isn't). I filter out metalorganics as well. Last I keep only molecules with more than 6 atoms. \n",
    "\n",
    "As this is a bit slow and can be easily put on several cpu's I'm doing that right here as well. I wanted to test how dask behaves on such a task. It's total overkill for what I'm doing here, but I want to see how the scheduling behaves on short living and often failing jobs (difficult to orchestrate, unless you handle it yourself in the code). \n",
    "\n",
    "Below you have a standalone python script (was not optimal in the notebook) to run all of this quick and dirty preparation. There are tons of rdkit & openbabel warnings popping out of that, as expected: \n",
    "\n",
    "\n"
   ],
   "cell_type": "markdown",
   "metadata": {}
  },
  {
   "cell_type": "code",
   "execution_count": null,
   "metadata": {
    "tags": []
   },
   "outputs": [],
   "source": [
    "from rdkit import Chem\n",
    "from openbabel import pybel\n",
    "import glob\n",
    "import pandas as pd\n",
    "import os\n",
    "import multiprocessing as mp\n",
    "from wrapt_timeout_decorator import *\n",
    "from rdkit import rdBase\n",
    "rdBase.DisableLog('rdApp.error')\n",
    "rdBase.DisableLog('rdApp.warning')\n",
    "\n",
    "ob_log_handler = pybel.ob.OBMessageHandler()\n",
    "ob_log_handler.SetOutputLevel(0)\n",
    "\n",
    "carbon = Chem.MolFromSmarts(\"[#6]\")\n",
    "\n",
    "\n",
    "\n",
    "def is_transition_metal(at):\n",
    "    n = at.GetAtomicNum()\n",
    "    return (n>=22 and n<=29) or (n>=40 and n<=47) or (n>=72 and n<=79)\n",
    "\n",
    "\n",
    "def write_output(filenames,outputname=\"out.sdf\"):\n",
    "    w = Chem.SDWriter(outputname)\n",
    "    for filename in filenames:\n",
    "        try:\n",
    "            if os.stat(filename).st_size / (1024 * 1024)<2.0:\n",
    "                mol = next(pybel.readfile(\"cif\",str(filename))) \n",
    "                molblock=mol.write(\"mol\")    #write out as a molfile string and ship that now into rdkit\n",
    "                m = Chem.MolFromMolBlock(molblock,removeHs=False,sanitize=True)\n",
    "                m.SetProp('COD',os.path.basename(filename).split(\".\")[0])\n",
    "                w.write(m)\n",
    "        except Exception:\n",
    "            pass\n",
    "    w.close()\n",
    "\n",
    "def select_molecule(filename):\n",
    "\n",
    "    blacklist=[\"../../cod/cif/2/31/17/2311717.cif\",\"../../cod/cif/2/10/46/2104629.cif\",\"../../cod/cif/2/10/59/2105953.cif\"]\n",
    "    if(filename not in blacklist):\n",
    "        try:\n",
    "            mol = next(pybel.readfile(\"cif\",str(filename))) \n",
    "            molblock=mol.write(\"mol\")    #write out as a molfile string and ship that now into rdkit\n",
    "            m = Chem.MolFromMolBlock(molblock,removeHs=False,sanitize=True)\n",
    "            \n",
    "            if m is not None and len(m.GetSubstructMatches(carbon))>0 and m.GetNumAtoms()> 6  :\n",
    "                \n",
    "                if(True not in [is_transition_metal(atom) for atom in m.GetAtoms()]):\n",
    "                    return filename\n",
    "        except Exception:\n",
    "            return None\n",
    "        return None\n",
    "    return None\n",
    "\n",
    "\n",
    "if __name__ == '__main__':\n",
    "    files=glob.glob('../../cod/cif/**/*.cif', recursive=True)\n",
    "    n=0\n",
    "\n",
    "    pool = mp.Pool(mp.cpu_count())\n",
    "    results = pool.map(select_molecule, files)\n",
    "    \n",
    "    validresults=[el for el in results if el is not None]\n",
    "    codids=[int(os.path.basename(filename).split(\".\")[0]) for filename in validresults]\n",
    "    \n",
    "    df = pd.read_table('/Users/peter/Downloads/COD_2020jun13.txt',  header=0)\n",
    "\n",
    "    dwr=df[\"COD Number\"]\n",
    "\n",
    "    common=list(set(dwr) & set(codids))\n",
    "\n",
    "    write_output(validresults)\n",
    "    print(\"common molecules\")\n",
    "    print(len(common))\n",
    "\n",
    "    import numpy as np\n",
    "    print(\"in mine, not in datawarrior\")\n",
    "    intersect1=np.setdiff1d(codids,dwr)\n",
    "    np.savetxt(\"out_intersect1.csv\",intersect1.astype(int),delimiter=\",\",fmt='%i')\n",
    "    print(len(intersect1))\n",
    "\n",
    "    print(\"in datawarrior, not in mine\")\n",
    "    intersect2=np.setdiff1d(dwr,codids)\n",
    "    np.savetxt(\"out_intersect2.csv\",intersect2.astype(int),delimiter=\",\",fmt='%i')\n",
    "    print(len(intersect2))"
   ]
  },
  {
   "source": [
    "I finally decided to strip out the dask code and run it through multiprocessing. Anyhow, easy to set up and a quick discussion on that below as well!"
   ],
   "cell_type": "markdown",
   "metadata": {}
  },
  {
   "source": [
    "## Dask & multiprocessing interlude\n",
    "\n",
    "Before analyzing the results, let's briefly assess how dask performs here.\n",
    "Dask enables us to run the code in a classical threaded, but also distributed mode, even on a local machine. As I have 12 cores's hanging in my MacPro I tested a distributed calculation. That is rather easy to set up. A bit like a multiprocessing Pool, but with the advantage that the functions are not 100% isolated (advantage or disadvantage, I let you decide ;)).  \n",
    "The other nice thing (I didn't know about) is that dask (if installed through conda at least) comes with bokeh, a tool allowing you to do some monitoring of your jobs. It's not super advanced, but gives you an overview of the worker loads, the job queue and the overall advancement. So that's quite cool compared to being completely blind on what's happening in your queue. \n",
    "\n",
    "![dask screenshot](../images/dask_cod.png \"Monitoring dask distributed computation using Bokeh\")\n",
    "\n",
    "I tested quite a range of combinations and ways to run this in dask (bag, compute, map .... ) and combinations of number of worker nodes vs threads. In the end, parallelization still isn't optimally spread over all cpu's, but I guess that's likely due to the fact that every calculation can range from immediate failure to runnning for a very long time. I guess, that on longer living and more stable jobs this is far more efficient. \n",
    "\n",
    "The most frustrating thing was that the script completely froze on a single job during the last 10% of the molecules. I narrowed down the issue to 3 molecules that openbabel naturally had issues with. When I say naturally, have a look at these: \n",
    "\n",
    "![issues with these cod's](../images/weird_cods.png \"unprocessable with openbabel\")\n",
    "\n",
    "The nasty thing here is that I even tried to kill these freezing jobs with timeout decorators and such. Without success. Even a ctrl+c in a shell didn't kill the job ... only a kill -9 did. So in the end I kept the multiprocessing version here in the code and filtered out the three incriminating molecules ( by hand, but would be really interested to know how this can be handled in a more geeky way).\n",
    "\n",
    "\n",
    "\n",
    "\n"
   ],
   "cell_type": "markdown",
   "metadata": {}
  },
  {
   "source": [
    "## Final filtered COD\n",
    "\n",
    "Let's come back to the actual aim of this post. Extract torsion angle statistics from small molecule crystal structures. First let's have a look what molecules I have in common now with Datawarrior and which ones are different and whether the filter should / could be refined a bit. \n",
    "\n",
    "|                | obabel & rdkit | Datawarrior |\n",
    "|----------------|----------------|-------------|\n",
    "| obabel & rdkit | 78643          | 117674      |\n",
    "| Datawarrior    | 117674         | 18344       |\n",
    "\n",
    "The majority of retained molecules are in common with datawarrior, but I am, I guess still a bit permissive for now. I don't want to go too much into the analysis of differences here and now. Quickly checking the sd file (above 1Gb) with datawarrior gives a few ideas on what to filter out. I guess I can also use some of the published usual filters on top of that. \n",
    "\n",
    "![quick overview](../images/myselection.png \"My selection of compounds - excerpt\")\n",
    "\n"
   ],
   "cell_type": "markdown",
   "metadata": {}
  },
  {
   "source": [
    "## Towards torsion angles\n",
    "\n",
    "Now the next step is to identify whether there's enough data to gather some statistics on some typical torsion angles that you can encounter in druglike molecules. Fortunately Sereina Riniker & Greg Landrum already did [something a bit similar in the past with data from the CSD and the PDB](https://pubs.acs.org/doi/abs/10.1021/acs.jcim.5b00654) to write the ETKDG (I hope I got that right) conformer generator for rdkit. \n",
    "\n",
    "The SI of that paper lists a bunch of smarts patterns describing such torsion angles. I'll blindly use these here to sieve through all molecules from the COD to see what I can get out of that. \n",
    "The smarts patterns are available [here](https://pubs.acs.org/doi/suppl/10.1021/acs.jcim.5b00654/suppl_file/ci5b00654_si_007.zip) - freely available ... unlike the paper behind it :(\n",
    "\n"
   ],
   "cell_type": "markdown",
   "metadata": {}
  },
  {
   "cell_type": "code",
   "execution_count": 3,
   "metadata": {
    "tags": []
   },
   "outputs": [],
   "source": [
    "import pandas as pd\n",
    "from rdkit.Chem import rdMolTransforms\n",
    "\n",
    "import matplotlib.pyplot as plt \n",
    "import matplotlib.image as mpimg\n",
    "import numpy as np\n",
    "import urllib.parse\n",
    "\n",
    "torsions=pd.read_table(\"../data/list_torsion_patterns.txt\",header=None,usecols=[1])\n",
    "suppl = Chem.SDMolSupplier('out.sdf',removeHs=False)\n",
    "patterns=torsions[1][:3]\n",
    "\n",
    "for torsionSmarts in patterns:\n",
    "    print(torsionSmarts)\n",
    "    angles=[]\n",
    "    torsionQuery = Chem.MolFromSmarts(torsionSmarts)\n",
    "    i=0\n",
    "    #suppl.reset()\n",
    "    for mol in suppl:\n",
    "        i+=1\n",
    "        if mol is None: continue\n",
    "        conf=mol.GetConformer(0)\n",
    "        matches = mol.GetSubstructMatches(torsionQuery)\n",
    "        if(len(matches)>0):\n",
    "            for match in matches:\n",
    "                angle=rdMolTransforms.GetDihedralDeg(conf, match[0],match[1],match[2],match[3])\n",
    "                angles.append(angle)\n",
    "\n",
    "\n",
    "    if(len(angles)):\n",
    "        smarts=urllib.parse.quote(torsionSmarts)\n",
    "        img = mpimg.imread(\"https://smarts.plus/smartsview/download_rest?smarts=\"+smarts,format=\"png\")\n",
    "\n",
    "        fig = plt.figure(figsize=(10, 5))\n",
    "        fig.add_subplot(121)\n",
    "        plt.title('smarts pattern')\n",
    "        plt.axis('off')\n",
    "        plt.imshow(img)\n",
    "\n",
    "        fig.add_subplot(122)\n",
    "        plt.title('torsion angle histogram')\n",
    "        \n",
    "        #df = pd.DataFrame(angles,columns = [torsionSmarts])  \n",
    "        \n",
    "        plt.hist(np.array(angles),bins=36,range=[-180, 180])\n",
    "        \n"
   ]
  },
  {
   "source": [
    "![pattern1](../images/cod/res-1.png \"First pattern statistics\")\n",
    "![pattern2](../images/cod/res-2.png \"2nd pattern statistics\")\n",
    "![pattern3](../images/cod/res-3.png \"3rd pattern statistics\")"
   ],
   "cell_type": "markdown",
   "metadata": {}
  },
  {
   "source": [
    "I'm only showing 3 smarts patterns here, but the code is written to run on all of the smarts patterns from the Riniker & Landrum paper. So feel free to adjust it to get the full results on your machine (to big for the notebook here ;).\n",
    "\n",
    "As you can see, there is still a lot of errors when re-reading the molecules from the SD file ... so still a lot of curation to be done. Also, on fullerenes or graphene or other larger structures (that are still in there), we'll likely get a repeated overrepresentation of several torsion angles. So something to think about when normalizing all of this data in the end. \n",
    "\n",
    "In theory, the order of the smarts patterns in the file I used here should be comparable to torsion angles provided in the [S1.zip](https://pubs.acs.org/doi/suppl/10.1021/acs.jcim.5b00654/suppl_file/ci5b00654_si_002.zip) by both authors (fingers crossed). These histograms were generated on a filtered / curated CCDC CSD dataset (unlike my hairy monster dataset here).\n",
    "\n",
    "![torsions](../images/torsion_angles_riniker.png)\n",
    "\n",
    "The first thing to notice is that they calculated a dihedral between 0 and 360, I just took the angles popping out of rdkit (between -180 and 180). So a bit of a mindgame to compare both. On smarts patterns 1 and 3 we have peaks around 0, which coincides with the CSD results. It is interesting to see that there's a bit of data for smarts pattern 1 suggesting angles around 180° might be possible, though not favourable (again, more filtering and quality checks needed to confirm/discard that). \n",
    "\n",
    "Smarts pattern 2 doesn't coincide at all with results from the CSD however, which makes me worried ... a bit ;) "
   ],
   "cell_type": "markdown",
   "metadata": {}
  },
  {
   "source": [
    "## Debugging smarts pattern 2\n"
   ],
   "cell_type": "markdown",
   "metadata": {}
  },
  {
   "cell_type": "code",
   "execution_count": 100,
   "metadata": {
    "tags": []
   },
   "outputs": [
    {
     "output_type": "stream",
     "name": "stdout",
     "text": [
      "178.94640626006364\n",
      "7031170\n",
      "-177.12326809469428\n",
      "7039689\n",
      "-179.7556421050122\n",
      "7039689\n",
      "-179.06730293018322\n",
      "7039689\n"
     ]
    }
   ],
   "source": [
    "\n",
    "pattern=\"[O:1]=[C:2]([N])!@;-[O:3]~[C:4]\"\n",
    "i=0\n",
    "torsionQuery = Chem.MolFromSmarts(pattern)\n",
    "for mol in suppl:\n",
    "    i+=1\n",
    "    if mol is None: continue\n",
    "    conf=mol.GetConformer(0)\n",
    "    matches = mol.GetSubstructMatches(torsionQuery)\n",
    "    if(len(matches)):\n",
    "        for match in matches:\n",
    "                angle=rdMolTransforms.GetDihedralDeg(conf, match[0],match[1],match[2],match[3])\n",
    "                #break\n",
    "                print(angle)\n",
    "                print(mol.GetProp(\"COD\"))\n",
    "    if(i>5000):\n",
    "        break\n"
   ]
  },
  {
   "source": [
    "Here are 4 compounds where we calculate in theory wrong angles. Let's visualize the last one and check what dihedral angle we are actually calculating here"
   ],
   "cell_type": "markdown",
   "metadata": {}
  },
  {
   "cell_type": "code",
   "execution_count": 101,
   "metadata": {},
   "outputs": [
    {
     "output_type": "stream",
     "name": "stdout",
     "text": [
      "((1, 18, 4, 0, 19), (53, 70, 56, 52, 71), (105, 122, 108, 104, 123))\n"
     ]
    },
    {
     "output_type": "display_data",
     "data": {
      "application/3dmoljs_load.v0": "<div id=\"3dmolviewer_1611793897271323\"  style=\"position: relative; width: 300px; height: 300px\">\n        <p id=\"3dmolwarning_1611793897271323\" style=\"background-color:#ffcccc;color:black\">You appear to be running in JupyterLab (or JavaScript failed to load for some other reason).  You need to install the 3dmol extension: <br>\n        <tt>jupyter labextension install jupyterlab_3dmol</tt></p>\n        </div>\n<script>\n\nvar loadScriptAsync = function(uri){\n  return new Promise((resolve, reject) => {\n    var tag = document.createElement('script');\n    tag.src = uri;\n    tag.async = true;\n    tag.onload = () => {\n      resolve();\n    };\n  var firstScriptTag = document.getElementsByTagName('script')[0];\n  firstScriptTag.parentNode.insertBefore(tag, firstScriptTag);\n});\n};\n\nif(typeof $3Dmolpromise === 'undefined') {\n$3Dmolpromise = null;\n  $3Dmolpromise = loadScriptAsync('https://3dmol.csb.pitt.edu/build/3Dmol.js');\n}\n\nvar viewer_1611793897271323 = null;\nvar warn = document.getElementById(\"3dmolwarning_1611793897271323\");\nif(warn) {\n    warn.parentNode.removeChild(warn);\n}\n$3Dmolpromise.then(function() {\nviewer_1611793897271323 = $3Dmol.createViewer($(\"#3dmolviewer_1611793897271323\"),{backgroundColor:\"white\"});\n\tviewer_1611793897271323.addModel(\"?\\n     RDKit          3D\\n\\n156159  0  0  0  0  0  0  0  0999 V2000\\n    6.7116    7.5612    6.1763 O   0  0  0  0  0  0  0  0  0  0  0  0\\n    6.4874    9.1026    7.8099 O   0  0  0  0  0  0  0  0  0  0  0  0\\n    7.0851   12.2639    3.3688 O   0  0  0  0  0  0  0  0  0  0  0  0\\n    7.6513   11.8884    3.8630 H   0  0  0  0  0  0  0  0  0  0  0  0\\n    6.4672    9.7044    5.6185 N   0  0  0  0  0  0  0  0  0  0  0  0\\n    6.7817    9.4078    4.2212 C   0  0  0  0  0  0  0  0  0  0  0  0\\n    6.6880    8.4346    4.0641 H   0  0  0  0  0  0  0  0  0  0  0  0\\n    7.7211    9.6584    4.0353 H   0  0  0  0  0  0  0  0  0  0  0  0\\n    5.8606   10.1659    3.2709 C   0  0  0  0  0  0  0  0  0  0  0  0\\n    4.9481    9.7881    3.3370 H   0  0  0  0  0  0  0  0  0  0  0  0\\n    6.1771   10.0349    2.3425 H   0  0  0  0  0  0  0  0  0  0  0  0\\n    5.8048   11.6671    3.5752 C   0  0  0  0  0  0  0  0  0  0  0  0\\n    5.4713   11.8652    5.0565 C   0  0  0  0  0  0  0  0  0  0  0  0\\n    5.4979   12.8318    5.2707 H   0  0  0  0  0  0  0  0  0  0  0  0\\n    4.5530   11.5390    5.2309 H   0  0  0  0  0  0  0  0  0  0  0  0\\n    6.4441   11.1255    5.9611 C   0  0  0  0  0  0  0  0  0  0  0  0\\n    7.3512   11.5077    5.8563 H   0  0  0  0  0  0  0  0  0  0  0  0\\n    6.1691   11.2357    6.9060 H   0  0  0  0  0  0  0  0  0  0  0  0\\n    6.5702    8.8101    6.6282 C   0  0  0  0  0  0  0  0  0  0  0  0\\n    6.7836    6.4272    7.1314 C   0  0  0  0  0  0  0  0  0  0  0  0\\n    5.5008    6.3404    7.9405 C   0  0  0  0  0  0  0  0  0  0  0  0\\n    5.4773    7.0707    8.5944 H   0  0  0  0  0  0  0  0  0  0  0  0\\n    5.4670    5.4808    8.4088 H   0  0  0  0  0  0  0  0  0  0  0  0\\n    4.7305    6.4159    7.3392 H   0  0  0  0  0  0  0  0  0  0  0  0\\n    8.0100    6.5469    8.0050 C   0  0  0  0  0  0  0  0  0  0  0  0\\n    8.8070    6.6209    7.4408 H   0  0  0  0  0  0  0  0  0  0  0  0\\n    8.0854    5.7528    8.5745 H   0  0  0  0  0  0  0  0  0  0  0  0\\n    7.9330    7.3447    8.5679 H   0  0  0  0  0  0  0  0  0  0  0  0\\n    6.9102    5.2407    6.1991 C   0  0  0  0  0  0  0  0  0  0  0  0\\n    6.1015    5.1691    5.6486 H   0  0  0  0  0  0  0  0  0  0  0  0\\n    7.0202    4.4223    6.7248 H   0  0  0  0  0  0  0  0  0  0  0  0\\n    7.6902    5.3637    5.6176 H   0  0  0  0  0  0  0  0  0  0  0  0\\n    4.8505   12.4086    2.6051 C   0  0  0  0  0  0  0  0  0  0  0  0\\n    5.3639   13.0241    1.4356 C   0  0  0  0  0  0  0  0  0  0  0  0\\n    4.5199   13.8180    0.6548 C   0  0  0  0  0  0  0  0  0  0  0  0\\n    4.8828   14.2481   -0.1105 H   0  0  0  0  0  0  0  0  0  0  0  0\\n    3.1826   14.0054    0.9439 C   0  0  0  0  0  0  0  0  0  0  0  0\\n    2.6787   13.3142    2.0177 C   0  0  0  0  0  0  0  0  0  0  0  0\\n    1.7536   13.3987    2.2166 H   0  0  0  0  0  0  0  0  0  0  0  0\\n    3.4647   12.4938    2.8294 C   0  0  0  0  0  0  0  0  0  0  0  0\\n    6.7745   12.8837    0.8944 C   0  0  0  0  0  0  0  0  0  0  0  0\\n    7.3775   13.4699    1.3967 H   0  0  0  0  0  0  0  0  0  0  0  0\\n    6.7876   13.1352   -0.0530 H   0  0  0  0  0  0  0  0  0  0  0  0\\n    7.0694   11.9532    0.9900 H   0  0  0  0  0  0  0  0  0  0  0  0\\n    2.3136   14.9064    0.0924 C   0  0  0  0  0  0  0  0  0  0  0  0\\n    2.8211   15.7061   -0.1591 H   0  0  0  0  0  0  0  0  0  0  0  0\\n    1.5188   15.1706    0.6011 H   0  0  0  0  0  0  0  0  0  0  0  0\\n    2.0388   14.4259   -0.7160 H   0  0  0  0  0  0  0  0  0  0  0  0\\n    2.6644   11.7283    3.8744 C   0  0  0  0  0  0  0  0  0  0  0  0\\n    3.0834   10.8571    4.0331 H   0  0  0  0  0  0  0  0  0  0  0  0\\n    1.7479   11.5955    3.5514 H   0  0  0  0  0  0  0  0  0  0  0  0\\n    2.6459   12.2398    4.7116 H   0  0  0  0  0  0  0  0  0  0  0  0\\n    6.7264    7.1037   13.7937 O   0  0  0  0  0  0  0  0  0  0  0  0\\n    7.3184    8.8817   15.0839 O   0  0  0  0  0  0  0  0  0  0  0  0\\n    6.9942   10.7686   10.0326 O   0  0  0  0  0  0  0  0  0  0  0  0\\n    6.8438   10.3592    9.3149 H   0  0  0  0  0  0  0  0  0  0  0  0\\n    6.7297    9.1425   12.9002 N   0  0  0  0  0  0  0  0  0  0  0  0\\n    7.1945   10.5403   12.8512 C   0  0  0  0  0  0  0  0  0  0  0  0\\n    8.0579   10.5830   12.3690 H   0  0  0  0  0  0  0  0  0  0  0  0\\n    7.3420   10.8717   13.7723 H   0  0  0  0  0  0  0  0  0  0  0  0\\n    6.1783   11.4315   12.1498 C   0  0  0  0  0  0  0  0  0  0  0  0\\n    6.5609   12.3381   12.0397 H   0  0  0  0  0  0  0  0  0  0  0  0\\n    5.3685   11.5097   12.7137 H   0  0  0  0  0  0  0  0  0  0  0  0\\n    5.7839   10.8834   10.7778 C   0  0  0  0  0  0  0  0  0  0  0  0\\n    5.2746    9.4383   10.9619 C   0  0  0  0  0  0  0  0  0  0  0  0\\n    4.4671    9.4429   11.5336 H   0  0  0  0  0  0  0  0  0  0  0  0\\n    5.0249    9.0601   10.0817 H   0  0  0  0  0  0  0  0  0  0  0  0\\n    6.3516    8.5700   11.6039 C   0  0  0  0  0  0  0  0  0  0  0  0\\n    6.0088    7.6502   11.7303 H   0  0  0  0  0  0  0  0  0  0  0  0\\n    7.1439    8.5267   11.0121 H   0  0  0  0  0  0  0  0  0  0  0  0\\n    6.9558    8.4164   14.0107 C   0  0  0  0  0  0  0  0  0  0  0  0\\n    6.8447    6.1049   14.8770 C   0  0  0  0  0  0  0  0  0  0  0  0\\n    5.7206    6.2952   15.8697 C   0  0  0  0  0  0  0  0  0  0  0  0\\n    5.8266    7.1586   16.3225 H   0  0  0  0  0  0  0  0  0  0  0  0\\n    5.7453    5.5750   16.5325 H   0  0  0  0  0  0  0  0  0  0  0  0\\n    4.8622    6.2758   15.3988 H   0  0  0  0  0  0  0  0  0  0  0  0\\n    6.6536    4.7978   14.1192 C   0  0  0  0  0  0  0  0  0  0  0  0\\n    5.7854    4.8072   13.6640 H   0  0  0  0  0  0  0  0  0  0  0  0\\n    6.6834    4.0479   14.7491 H   0  0  0  0  0  0  0  0  0  0  0  0\\n    7.3684    4.6964   13.4563 H   0  0  0  0  0  0  0  0  0  0  0  0\\n    8.2092    6.1469   15.5312 C   0  0  0  0  0  0  0  0  0  0  0  0\\n    8.9009    6.2172   14.8397 H   0  0  0  0  0  0  0  0  0  0  0  0\\n    8.3477    5.3281   16.0507 H   0  0  0  0  0  0  0  0  0  0  0  0\\n    8.2629    6.9243   16.1259 H   0  0  0  0  0  0  0  0  0  0  0  0\\n    4.8086   11.8470   10.0541 C   0  0  0  0  0  0  0  0  0  0  0  0\\n    5.3276   12.8134    9.1588 C   0  0  0  0  0  0  0  0  0  0  0  0\\n    4.4436   13.5977    8.4163 C   0  0  0  0  0  0  0  0  0  0  0  0\\n    4.8038   14.2146    7.7900 H   0  0  0  0  0  0  0  0  0  0  0  0\\n    3.0751   13.5205    8.5476 C   0  0  0  0  0  0  0  0  0  0  0  0\\n    2.5885   12.6659    9.5179 C   0  0  0  0  0  0  0  0  0  0  0  0\\n    1.6517   12.6415    9.6751 H   0  0  0  0  0  0  0  0  0  0  0  0\\n    3.4129   11.8371   10.2768 C   0  0  0  0  0  0  0  0  0  0  0  0\\n    6.7954   13.1703    8.9847 C   0  0  0  0  0  0  0  0  0  0  0  0\\n    7.2492   13.1163    9.8519 H   0  0  0  0  0  0  0  0  0  0  0  0\\n    6.8701   14.0828    8.6320 H   0  0  0  0  0  0  0  0  0  0  0  0\\n    7.2126   12.5432    8.3580 H   0  0  0  0  0  0  0  0  0  0  0  0\\n    2.1535   14.3598    7.7001 C   0  0  0  0  0  0  0  0  0  0  0  0\\n    2.5806   15.2208    7.5071 H   0  0  0  0  0  0  0  0  0  0  0  0\\n    1.3138   14.5116    8.1834 H   0  0  0  0  0  0  0  0  0  0  0  0\\n    1.9667   13.8924    6.8596 H   0  0  0  0  0  0  0  0  0  0  0  0\\n    2.6900   11.0119   11.3261 C   0  0  0  0  0  0  0  0  0  0  0  0\\n    2.5565   10.1019   10.9900 H   0  0  0  0  0  0  0  0  0  0  0  0\\n    1.8200   11.4198   11.5204 H   0  0  0  0  0  0  0  0  0  0  0  0\\n    3.2266   10.9826   12.1458 H   0  0  0  0  0  0  0  0  0  0  0  0\\n   -1.0902   13.6090    9.8921 O   0  0  0  0  0  0  0  0  0  0  0  0\\n   -1.4416   11.7806   11.1968 O   0  0  0  0  0  0  0  0  0  0  0  0\\n   -1.5698    9.9492    6.0375 O   0  0  0  0  0  0  0  0  0  0  0  0\\n   -1.5108   10.4973    5.4055 H   0  0  0  0  0  0  0  0  0  0  0  0\\n   -1.1878   11.5980    8.9381 N   0  0  0  0  0  0  0  0  0  0  0  0\\n   -0.9365   12.1917    7.6329 C   0  0  0  0  0  0  0  0  0  0  0  0\\n   -0.6185   13.1226    7.7436 H   0  0  0  0  0  0  0  0  0  0  0  0\\n   -1.7742   12.2105    7.1071 H   0  0  0  0  0  0  0  0  0  0  0  0\\n    0.1153   11.3715    6.8996 C   0  0  0  0  0  0  0  0  0  0  0  0\\n    0.9690   11.4072    7.4011 H   0  0  0  0  0  0  0  0  0  0  0  0\\n    0.2703   11.7629    6.0022 H   0  0  0  0  0  0  0  0  0  0  0  0\\n   -0.3249    9.9040    6.7482 C   0  0  0  0  0  0  0  0  0  0  0  0\\n   -0.6631    9.3321    8.1294 C   0  0  0  0  0  0  0  0  0  0  0  0\\n   -1.0480    8.4263    8.0220 H   0  0  0  0  0  0  0  0  0  0  0  0\\n    0.1684    9.2484    8.6607 H   0  0  0  0  0  0  0  0  0  0  0  0\\n   -1.6490   10.2079    8.8819 C   0  0  0  0  0  0  0  0  0  0  0  0\\n   -2.5302   10.1709    8.4331 H   0  0  0  0  0  0  0  0  0  0  0  0\\n   -1.7605    9.8613    9.8032 H   0  0  0  0  0  0  0  0  0  0  0  0\\n   -1.2635   12.2794   10.1082 C   0  0  0  0  0  0  0  0  0  0  0  0\\n   -1.1055   14.5623   11.0154 C   0  0  0  0  0  0  0  0  0  0  0  0\\n    0.0605   14.2907   11.9418 C   0  0  0  0  0  0  0  0  0  0  0  0\\n   -0.0905   13.4469   12.4176 H   0  0  0  0  0  0  0  0  0  0  0  0\\n    0.1409   15.0221   12.5900 H   0  0  0  0  0  0  0  0  0  0  0  0\\n    0.8865   14.2271   11.4165 H   0  0  0  0  0  0  0  0  0  0  0  0\\n   -2.4269   14.5349   11.7491 C   0  0  0  0  0  0  0  0  0  0  0  0\\n   -3.1556   14.6999   11.1159 H   0  0  0  0  0  0  0  0  0  0  0  0\\n   -2.4305   15.2292   12.4419 H   0  0  0  0  0  0  0  0  0  0  0  0\\n   -2.5508   13.6561   12.1657 H   0  0  0  0  0  0  0  0  0  0  0  0\\n   -0.9175   15.8925   10.3071 C   0  0  0  0  0  0  0  0  0  0  0  0\\n   -0.0389   15.9091    9.8718 H   0  0  0  0  0  0  0  0  0  0  0  0\\n   -0.9724   16.6203   10.9590 H   0  0  0  0  0  0  0  0  0  0  0  0\\n   -1.6185   16.0053    9.6309 H   0  0  0  0  0  0  0  0  0  0  0  0\\n    0.7022    9.0201    6.0055 C   0  0  0  0  0  0  0  0  0  0  0  0\\n    0.2802    8.0953    5.0168 C   0  0  0  0  0  0  0  0  0  0  0  0\\n    1.2295    7.3983    4.2740 C   0  0  0  0  0  0  0  0  0  0  0  0\\n    0.9289    6.8092    3.5911 H   0  0  0  0  0  0  0  0  0  0  0  0\\n    2.5920    7.5255    4.4855 C   0  0  0  0  0  0  0  0  0  0  0  0\\n    2.9822    8.3334    5.5288 C   0  0  0  0  0  0  0  0  0  0  0  0\\n    3.9081    8.3907    5.7348 H   0  0  0  0  0  0  0  0  0  0  0  0\\n    2.0859    9.0714    6.2987 C   0  0  0  0  0  0  0  0  0  0  0  0\\n   -1.1573    7.6955    4.7173 C   0  0  0  0  0  0  0  0  0  0  0  0\\n   -1.6585    7.6250    5.5558 H   0  0  0  0  0  0  0  0  0  0  0  0\\n   -1.1672    6.8301    4.2563 H   0  0  0  0  0  0  0  0  0  0  0  0\\n   -1.5726    8.3740    4.1458 H   0  0  0  0  0  0  0  0  0  0  0  0\\n    3.5943    6.7826    3.6406 C   0  0  0  0  0  0  0  0  0  0  0  0\\n    3.3457    5.8365    3.5978 H   0  0  0  0  0  0  0  0  0  0  0  0\\n    4.4854    6.8678    4.0398 H   0  0  0  0  0  0  0  0  0  0  0  0\\n    3.6034    7.1606    2.7359 H   0  0  0  0  0  0  0  0  0  0  0  0\\n    2.7309    9.8272    7.4464 C   0  0  0  0  0  0  0  0  0  0  0  0\\n    2.9150   10.7483    7.1690 H   0  0  0  0  0  0  0  0  0  0  0  0\\n    3.5702    9.3864    7.6972 H   0  0  0  0  0  0  0  0  0  0  0  0\\n    2.1236    9.8341    8.2143 H   0  0  0  0  0  0  0  0  0  0  0  0\\n  1 19  1  0\\n  1 20  1  0\\n  3 12  1  0\\n  3  4  1  0\\n  5 16  1  0\\n  5 19  1  0\\n  6  5  1  0\\n  7  6  1  0\\n  8  6  1  0\\n  9 10  1  0\\n  9 12  1  0\\n  9  6  1  0\\n 11  9  1  0\\n 12 13  1  0\\n 13 15  1  0\\n 13 14  1  0\\n 13 16  1  0\\n 16 18  1  0\\n 17 16  1  0\\n 19  2  2  0\\n 20 21  1  0\\n 20 25  1  0\\n 21 23  1  0\\n 21 22  1  0\\n 24 21  1  0\\n 25 28  1  0\\n 25 27  1  0\\n 26 25  1  0\\n 29 31  1  0\\n 29 20  1  0\\n 30 29  1  0\\n 32 29  1  0\\n 33 40  1  0\\n 33 12  1  0\\n 34 33  2  0\\n 35 37  2  0\\n 35 34  1  0\\n 36 35  1  0\\n 37 38  1  0\\n 38 39  1  0\\n 38 40  2  0\\n 40 49  1  0\\n 41 44  1  0\\n 41 42  1  0\\n 41 34  1  0\\n 43 41  1  0\\n 45 47  1  0\\n 45 37  1  0\\n 46 45  1  0\\n 48 45  1  0\\n 49 50  1  0\\n 49 52  1  0\\n 51 49  1  0\\n 53 71  1  0\\n 53 72  1  0\\n 55 64  1  0\\n 56 55  1  0\\n 57 71  1  0\\n 58 57  1  0\\n 58 60  1  0\\n 59 58  1  0\\n 61 63  1  0\\n 61 58  1  0\\n 62 61  1  0\\n 64 65  1  0\\n 64 61  1  0\\n 65 66  1  0\\n 65 68  1  0\\n 67 65  1  0\\n 68 69  1  0\\n 68 57  1  0\\n 70 68  1  0\\n 71 54  2  0\\n 72 81  1  0\\n 72 73  1  0\\n 73 74  1  0\\n 73 75  1  0\\n 76 73  1  0\\n 77 79  1  0\\n 77 72  1  0\\n 78 77  1  0\\n 80 77  1  0\\n 81 83  1  0\\n 81 84  1  0\\n 82 81  1  0\\n 85 92  1  0\\n 85 64  1  0\\n 86 85  2  0\\n 87 89  2  0\\n 87 86  1  0\\n 88 87  1  0\\n 89 90  1  0\\n 90 91  1  0\\n 90 92  2  0\\n 92101  1  0\\n 93 86  1  0\\n 93 94  1  0\\n 95 93  1  0\\n 96 93  1  0\\n 97 99  1  0\\n 97 89  1  0\\n 98 97  1  0\\n100 97  1  0\\n101103  1  0\\n101104  1  0\\n102101  1  0\\n105123  1  0\\n105124  1  0\\n107116  1  0\\n108107  1  0\\n109123  1  0\\n110111  1  0\\n110109  1  0\\n112110  1  0\\n113114  1  0\\n113110  1  0\\n115113  1  0\\n116113  1  0\\n116117  1  0\\n117119  1  0\\n117120  1  0\\n118117  1  0\\n120109  1  0\\n120122  1  0\\n121120  1  0\\n123106  2  0\\n124129  1  0\\n124125  1  0\\n125126  1  0\\n125127  1  0\\n128125  1  0\\n129132  1  0\\n129131  1  0\\n130129  1  0\\n133135  1  0\\n133124  1  0\\n134133  1  0\\n136133  1  0\\n137144  1  0\\n137116  1  0\\n138137  2  0\\n139141  2  0\\n139138  1  0\\n140139  1  0\\n141142  1  0\\n142143  1  0\\n142144  2  0\\n144153  1  0\\n145138  1  0\\n145146  1  0\\n147145  1  0\\n148145  1  0\\n149151  1  0\\n149141  1  0\\n150149  1  0\\n152149  1  0\\n153155  1  0\\n153156  1  0\\n154153  1  0\\nM  END\\n\",\"mol\");\n\tviewer_1611793897271323.setStyle({\"stick\": {}});\n\tviewer_1611793897271323.setStyle({\"serial\": [1, 18, 4, 0, 19, 53, 70, 56, 52, 71, 105, 122, 108, 104, 123]},{\"stick\": {\"color\": \"pink\"}});\n\tviewer_1611793897271323.zoomTo();\nviewer_1611793897271323.render();\n});\n</script>",
      "text/html": "<div id=\"3dmolviewer_1611793897271323\"  style=\"position: relative; width: 300px; height: 300px\">\n        <p id=\"3dmolwarning_1611793897271323\" style=\"background-color:#ffcccc;color:black\">You appear to be running in JupyterLab (or JavaScript failed to load for some other reason).  You need to install the 3dmol extension: <br>\n        <tt>jupyter labextension install jupyterlab_3dmol</tt></p>\n        </div>\n<script>\n\nvar loadScriptAsync = function(uri){\n  return new Promise((resolve, reject) => {\n    var tag = document.createElement('script');\n    tag.src = uri;\n    tag.async = true;\n    tag.onload = () => {\n      resolve();\n    };\n  var firstScriptTag = document.getElementsByTagName('script')[0];\n  firstScriptTag.parentNode.insertBefore(tag, firstScriptTag);\n});\n};\n\nif(typeof $3Dmolpromise === 'undefined') {\n$3Dmolpromise = null;\n  $3Dmolpromise = loadScriptAsync('https://3dmol.csb.pitt.edu/build/3Dmol.js');\n}\n\nvar viewer_1611793897271323 = null;\nvar warn = document.getElementById(\"3dmolwarning_1611793897271323\");\nif(warn) {\n    warn.parentNode.removeChild(warn);\n}\n$3Dmolpromise.then(function() {\nviewer_1611793897271323 = $3Dmol.createViewer($(\"#3dmolviewer_1611793897271323\"),{backgroundColor:\"white\"});\n\tviewer_1611793897271323.addModel(\"?\\n     RDKit          3D\\n\\n156159  0  0  0  0  0  0  0  0999 V2000\\n    6.7116    7.5612    6.1763 O   0  0  0  0  0  0  0  0  0  0  0  0\\n    6.4874    9.1026    7.8099 O   0  0  0  0  0  0  0  0  0  0  0  0\\n    7.0851   12.2639    3.3688 O   0  0  0  0  0  0  0  0  0  0  0  0\\n    7.6513   11.8884    3.8630 H   0  0  0  0  0  0  0  0  0  0  0  0\\n    6.4672    9.7044    5.6185 N   0  0  0  0  0  0  0  0  0  0  0  0\\n    6.7817    9.4078    4.2212 C   0  0  0  0  0  0  0  0  0  0  0  0\\n    6.6880    8.4346    4.0641 H   0  0  0  0  0  0  0  0  0  0  0  0\\n    7.7211    9.6584    4.0353 H   0  0  0  0  0  0  0  0  0  0  0  0\\n    5.8606   10.1659    3.2709 C   0  0  0  0  0  0  0  0  0  0  0  0\\n    4.9481    9.7881    3.3370 H   0  0  0  0  0  0  0  0  0  0  0  0\\n    6.1771   10.0349    2.3425 H   0  0  0  0  0  0  0  0  0  0  0  0\\n    5.8048   11.6671    3.5752 C   0  0  0  0  0  0  0  0  0  0  0  0\\n    5.4713   11.8652    5.0565 C   0  0  0  0  0  0  0  0  0  0  0  0\\n    5.4979   12.8318    5.2707 H   0  0  0  0  0  0  0  0  0  0  0  0\\n    4.5530   11.5390    5.2309 H   0  0  0  0  0  0  0  0  0  0  0  0\\n    6.4441   11.1255    5.9611 C   0  0  0  0  0  0  0  0  0  0  0  0\\n    7.3512   11.5077    5.8563 H   0  0  0  0  0  0  0  0  0  0  0  0\\n    6.1691   11.2357    6.9060 H   0  0  0  0  0  0  0  0  0  0  0  0\\n    6.5702    8.8101    6.6282 C   0  0  0  0  0  0  0  0  0  0  0  0\\n    6.7836    6.4272    7.1314 C   0  0  0  0  0  0  0  0  0  0  0  0\\n    5.5008    6.3404    7.9405 C   0  0  0  0  0  0  0  0  0  0  0  0\\n    5.4773    7.0707    8.5944 H   0  0  0  0  0  0  0  0  0  0  0  0\\n    5.4670    5.4808    8.4088 H   0  0  0  0  0  0  0  0  0  0  0  0\\n    4.7305    6.4159    7.3392 H   0  0  0  0  0  0  0  0  0  0  0  0\\n    8.0100    6.5469    8.0050 C   0  0  0  0  0  0  0  0  0  0  0  0\\n    8.8070    6.6209    7.4408 H   0  0  0  0  0  0  0  0  0  0  0  0\\n    8.0854    5.7528    8.5745 H   0  0  0  0  0  0  0  0  0  0  0  0\\n    7.9330    7.3447    8.5679 H   0  0  0  0  0  0  0  0  0  0  0  0\\n    6.9102    5.2407    6.1991 C   0  0  0  0  0  0  0  0  0  0  0  0\\n    6.1015    5.1691    5.6486 H   0  0  0  0  0  0  0  0  0  0  0  0\\n    7.0202    4.4223    6.7248 H   0  0  0  0  0  0  0  0  0  0  0  0\\n    7.6902    5.3637    5.6176 H   0  0  0  0  0  0  0  0  0  0  0  0\\n    4.8505   12.4086    2.6051 C   0  0  0  0  0  0  0  0  0  0  0  0\\n    5.3639   13.0241    1.4356 C   0  0  0  0  0  0  0  0  0  0  0  0\\n    4.5199   13.8180    0.6548 C   0  0  0  0  0  0  0  0  0  0  0  0\\n    4.8828   14.2481   -0.1105 H   0  0  0  0  0  0  0  0  0  0  0  0\\n    3.1826   14.0054    0.9439 C   0  0  0  0  0  0  0  0  0  0  0  0\\n    2.6787   13.3142    2.0177 C   0  0  0  0  0  0  0  0  0  0  0  0\\n    1.7536   13.3987    2.2166 H   0  0  0  0  0  0  0  0  0  0  0  0\\n    3.4647   12.4938    2.8294 C   0  0  0  0  0  0  0  0  0  0  0  0\\n    6.7745   12.8837    0.8944 C   0  0  0  0  0  0  0  0  0  0  0  0\\n    7.3775   13.4699    1.3967 H   0  0  0  0  0  0  0  0  0  0  0  0\\n    6.7876   13.1352   -0.0530 H   0  0  0  0  0  0  0  0  0  0  0  0\\n    7.0694   11.9532    0.9900 H   0  0  0  0  0  0  0  0  0  0  0  0\\n    2.3136   14.9064    0.0924 C   0  0  0  0  0  0  0  0  0  0  0  0\\n    2.8211   15.7061   -0.1591 H   0  0  0  0  0  0  0  0  0  0  0  0\\n    1.5188   15.1706    0.6011 H   0  0  0  0  0  0  0  0  0  0  0  0\\n    2.0388   14.4259   -0.7160 H   0  0  0  0  0  0  0  0  0  0  0  0\\n    2.6644   11.7283    3.8744 C   0  0  0  0  0  0  0  0  0  0  0  0\\n    3.0834   10.8571    4.0331 H   0  0  0  0  0  0  0  0  0  0  0  0\\n    1.7479   11.5955    3.5514 H   0  0  0  0  0  0  0  0  0  0  0  0\\n    2.6459   12.2398    4.7116 H   0  0  0  0  0  0  0  0  0  0  0  0\\n    6.7264    7.1037   13.7937 O   0  0  0  0  0  0  0  0  0  0  0  0\\n    7.3184    8.8817   15.0839 O   0  0  0  0  0  0  0  0  0  0  0  0\\n    6.9942   10.7686   10.0326 O   0  0  0  0  0  0  0  0  0  0  0  0\\n    6.8438   10.3592    9.3149 H   0  0  0  0  0  0  0  0  0  0  0  0\\n    6.7297    9.1425   12.9002 N   0  0  0  0  0  0  0  0  0  0  0  0\\n    7.1945   10.5403   12.8512 C   0  0  0  0  0  0  0  0  0  0  0  0\\n    8.0579   10.5830   12.3690 H   0  0  0  0  0  0  0  0  0  0  0  0\\n    7.3420   10.8717   13.7723 H   0  0  0  0  0  0  0  0  0  0  0  0\\n    6.1783   11.4315   12.1498 C   0  0  0  0  0  0  0  0  0  0  0  0\\n    6.5609   12.3381   12.0397 H   0  0  0  0  0  0  0  0  0  0  0  0\\n    5.3685   11.5097   12.7137 H   0  0  0  0  0  0  0  0  0  0  0  0\\n    5.7839   10.8834   10.7778 C   0  0  0  0  0  0  0  0  0  0  0  0\\n    5.2746    9.4383   10.9619 C   0  0  0  0  0  0  0  0  0  0  0  0\\n    4.4671    9.4429   11.5336 H   0  0  0  0  0  0  0  0  0  0  0  0\\n    5.0249    9.0601   10.0817 H   0  0  0  0  0  0  0  0  0  0  0  0\\n    6.3516    8.5700   11.6039 C   0  0  0  0  0  0  0  0  0  0  0  0\\n    6.0088    7.6502   11.7303 H   0  0  0  0  0  0  0  0  0  0  0  0\\n    7.1439    8.5267   11.0121 H   0  0  0  0  0  0  0  0  0  0  0  0\\n    6.9558    8.4164   14.0107 C   0  0  0  0  0  0  0  0  0  0  0  0\\n    6.8447    6.1049   14.8770 C   0  0  0  0  0  0  0  0  0  0  0  0\\n    5.7206    6.2952   15.8697 C   0  0  0  0  0  0  0  0  0  0  0  0\\n    5.8266    7.1586   16.3225 H   0  0  0  0  0  0  0  0  0  0  0  0\\n    5.7453    5.5750   16.5325 H   0  0  0  0  0  0  0  0  0  0  0  0\\n    4.8622    6.2758   15.3988 H   0  0  0  0  0  0  0  0  0  0  0  0\\n    6.6536    4.7978   14.1192 C   0  0  0  0  0  0  0  0  0  0  0  0\\n    5.7854    4.8072   13.6640 H   0  0  0  0  0  0  0  0  0  0  0  0\\n    6.6834    4.0479   14.7491 H   0  0  0  0  0  0  0  0  0  0  0  0\\n    7.3684    4.6964   13.4563 H   0  0  0  0  0  0  0  0  0  0  0  0\\n    8.2092    6.1469   15.5312 C   0  0  0  0  0  0  0  0  0  0  0  0\\n    8.9009    6.2172   14.8397 H   0  0  0  0  0  0  0  0  0  0  0  0\\n    8.3477    5.3281   16.0507 H   0  0  0  0  0  0  0  0  0  0  0  0\\n    8.2629    6.9243   16.1259 H   0  0  0  0  0  0  0  0  0  0  0  0\\n    4.8086   11.8470   10.0541 C   0  0  0  0  0  0  0  0  0  0  0  0\\n    5.3276   12.8134    9.1588 C   0  0  0  0  0  0  0  0  0  0  0  0\\n    4.4436   13.5977    8.4163 C   0  0  0  0  0  0  0  0  0  0  0  0\\n    4.8038   14.2146    7.7900 H   0  0  0  0  0  0  0  0  0  0  0  0\\n    3.0751   13.5205    8.5476 C   0  0  0  0  0  0  0  0  0  0  0  0\\n    2.5885   12.6659    9.5179 C   0  0  0  0  0  0  0  0  0  0  0  0\\n    1.6517   12.6415    9.6751 H   0  0  0  0  0  0  0  0  0  0  0  0\\n    3.4129   11.8371   10.2768 C   0  0  0  0  0  0  0  0  0  0  0  0\\n    6.7954   13.1703    8.9847 C   0  0  0  0  0  0  0  0  0  0  0  0\\n    7.2492   13.1163    9.8519 H   0  0  0  0  0  0  0  0  0  0  0  0\\n    6.8701   14.0828    8.6320 H   0  0  0  0  0  0  0  0  0  0  0  0\\n    7.2126   12.5432    8.3580 H   0  0  0  0  0  0  0  0  0  0  0  0\\n    2.1535   14.3598    7.7001 C   0  0  0  0  0  0  0  0  0  0  0  0\\n    2.5806   15.2208    7.5071 H   0  0  0  0  0  0  0  0  0  0  0  0\\n    1.3138   14.5116    8.1834 H   0  0  0  0  0  0  0  0  0  0  0  0\\n    1.9667   13.8924    6.8596 H   0  0  0  0  0  0  0  0  0  0  0  0\\n    2.6900   11.0119   11.3261 C   0  0  0  0  0  0  0  0  0  0  0  0\\n    2.5565   10.1019   10.9900 H   0  0  0  0  0  0  0  0  0  0  0  0\\n    1.8200   11.4198   11.5204 H   0  0  0  0  0  0  0  0  0  0  0  0\\n    3.2266   10.9826   12.1458 H   0  0  0  0  0  0  0  0  0  0  0  0\\n   -1.0902   13.6090    9.8921 O   0  0  0  0  0  0  0  0  0  0  0  0\\n   -1.4416   11.7806   11.1968 O   0  0  0  0  0  0  0  0  0  0  0  0\\n   -1.5698    9.9492    6.0375 O   0  0  0  0  0  0  0  0  0  0  0  0\\n   -1.5108   10.4973    5.4055 H   0  0  0  0  0  0  0  0  0  0  0  0\\n   -1.1878   11.5980    8.9381 N   0  0  0  0  0  0  0  0  0  0  0  0\\n   -0.9365   12.1917    7.6329 C   0  0  0  0  0  0  0  0  0  0  0  0\\n   -0.6185   13.1226    7.7436 H   0  0  0  0  0  0  0  0  0  0  0  0\\n   -1.7742   12.2105    7.1071 H   0  0  0  0  0  0  0  0  0  0  0  0\\n    0.1153   11.3715    6.8996 C   0  0  0  0  0  0  0  0  0  0  0  0\\n    0.9690   11.4072    7.4011 H   0  0  0  0  0  0  0  0  0  0  0  0\\n    0.2703   11.7629    6.0022 H   0  0  0  0  0  0  0  0  0  0  0  0\\n   -0.3249    9.9040    6.7482 C   0  0  0  0  0  0  0  0  0  0  0  0\\n   -0.6631    9.3321    8.1294 C   0  0  0  0  0  0  0  0  0  0  0  0\\n   -1.0480    8.4263    8.0220 H   0  0  0  0  0  0  0  0  0  0  0  0\\n    0.1684    9.2484    8.6607 H   0  0  0  0  0  0  0  0  0  0  0  0\\n   -1.6490   10.2079    8.8819 C   0  0  0  0  0  0  0  0  0  0  0  0\\n   -2.5302   10.1709    8.4331 H   0  0  0  0  0  0  0  0  0  0  0  0\\n   -1.7605    9.8613    9.8032 H   0  0  0  0  0  0  0  0  0  0  0  0\\n   -1.2635   12.2794   10.1082 C   0  0  0  0  0  0  0  0  0  0  0  0\\n   -1.1055   14.5623   11.0154 C   0  0  0  0  0  0  0  0  0  0  0  0\\n    0.0605   14.2907   11.9418 C   0  0  0  0  0  0  0  0  0  0  0  0\\n   -0.0905   13.4469   12.4176 H   0  0  0  0  0  0  0  0  0  0  0  0\\n    0.1409   15.0221   12.5900 H   0  0  0  0  0  0  0  0  0  0  0  0\\n    0.8865   14.2271   11.4165 H   0  0  0  0  0  0  0  0  0  0  0  0\\n   -2.4269   14.5349   11.7491 C   0  0  0  0  0  0  0  0  0  0  0  0\\n   -3.1556   14.6999   11.1159 H   0  0  0  0  0  0  0  0  0  0  0  0\\n   -2.4305   15.2292   12.4419 H   0  0  0  0  0  0  0  0  0  0  0  0\\n   -2.5508   13.6561   12.1657 H   0  0  0  0  0  0  0  0  0  0  0  0\\n   -0.9175   15.8925   10.3071 C   0  0  0  0  0  0  0  0  0  0  0  0\\n   -0.0389   15.9091    9.8718 H   0  0  0  0  0  0  0  0  0  0  0  0\\n   -0.9724   16.6203   10.9590 H   0  0  0  0  0  0  0  0  0  0  0  0\\n   -1.6185   16.0053    9.6309 H   0  0  0  0  0  0  0  0  0  0  0  0\\n    0.7022    9.0201    6.0055 C   0  0  0  0  0  0  0  0  0  0  0  0\\n    0.2802    8.0953    5.0168 C   0  0  0  0  0  0  0  0  0  0  0  0\\n    1.2295    7.3983    4.2740 C   0  0  0  0  0  0  0  0  0  0  0  0\\n    0.9289    6.8092    3.5911 H   0  0  0  0  0  0  0  0  0  0  0  0\\n    2.5920    7.5255    4.4855 C   0  0  0  0  0  0  0  0  0  0  0  0\\n    2.9822    8.3334    5.5288 C   0  0  0  0  0  0  0  0  0  0  0  0\\n    3.9081    8.3907    5.7348 H   0  0  0  0  0  0  0  0  0  0  0  0\\n    2.0859    9.0714    6.2987 C   0  0  0  0  0  0  0  0  0  0  0  0\\n   -1.1573    7.6955    4.7173 C   0  0  0  0  0  0  0  0  0  0  0  0\\n   -1.6585    7.6250    5.5558 H   0  0  0  0  0  0  0  0  0  0  0  0\\n   -1.1672    6.8301    4.2563 H   0  0  0  0  0  0  0  0  0  0  0  0\\n   -1.5726    8.3740    4.1458 H   0  0  0  0  0  0  0  0  0  0  0  0\\n    3.5943    6.7826    3.6406 C   0  0  0  0  0  0  0  0  0  0  0  0\\n    3.3457    5.8365    3.5978 H   0  0  0  0  0  0  0  0  0  0  0  0\\n    4.4854    6.8678    4.0398 H   0  0  0  0  0  0  0  0  0  0  0  0\\n    3.6034    7.1606    2.7359 H   0  0  0  0  0  0  0  0  0  0  0  0\\n    2.7309    9.8272    7.4464 C   0  0  0  0  0  0  0  0  0  0  0  0\\n    2.9150   10.7483    7.1690 H   0  0  0  0  0  0  0  0  0  0  0  0\\n    3.5702    9.3864    7.6972 H   0  0  0  0  0  0  0  0  0  0  0  0\\n    2.1236    9.8341    8.2143 H   0  0  0  0  0  0  0  0  0  0  0  0\\n  1 19  1  0\\n  1 20  1  0\\n  3 12  1  0\\n  3  4  1  0\\n  5 16  1  0\\n  5 19  1  0\\n  6  5  1  0\\n  7  6  1  0\\n  8  6  1  0\\n  9 10  1  0\\n  9 12  1  0\\n  9  6  1  0\\n 11  9  1  0\\n 12 13  1  0\\n 13 15  1  0\\n 13 14  1  0\\n 13 16  1  0\\n 16 18  1  0\\n 17 16  1  0\\n 19  2  2  0\\n 20 21  1  0\\n 20 25  1  0\\n 21 23  1  0\\n 21 22  1  0\\n 24 21  1  0\\n 25 28  1  0\\n 25 27  1  0\\n 26 25  1  0\\n 29 31  1  0\\n 29 20  1  0\\n 30 29  1  0\\n 32 29  1  0\\n 33 40  1  0\\n 33 12  1  0\\n 34 33  2  0\\n 35 37  2  0\\n 35 34  1  0\\n 36 35  1  0\\n 37 38  1  0\\n 38 39  1  0\\n 38 40  2  0\\n 40 49  1  0\\n 41 44  1  0\\n 41 42  1  0\\n 41 34  1  0\\n 43 41  1  0\\n 45 47  1  0\\n 45 37  1  0\\n 46 45  1  0\\n 48 45  1  0\\n 49 50  1  0\\n 49 52  1  0\\n 51 49  1  0\\n 53 71  1  0\\n 53 72  1  0\\n 55 64  1  0\\n 56 55  1  0\\n 57 71  1  0\\n 58 57  1  0\\n 58 60  1  0\\n 59 58  1  0\\n 61 63  1  0\\n 61 58  1  0\\n 62 61  1  0\\n 64 65  1  0\\n 64 61  1  0\\n 65 66  1  0\\n 65 68  1  0\\n 67 65  1  0\\n 68 69  1  0\\n 68 57  1  0\\n 70 68  1  0\\n 71 54  2  0\\n 72 81  1  0\\n 72 73  1  0\\n 73 74  1  0\\n 73 75  1  0\\n 76 73  1  0\\n 77 79  1  0\\n 77 72  1  0\\n 78 77  1  0\\n 80 77  1  0\\n 81 83  1  0\\n 81 84  1  0\\n 82 81  1  0\\n 85 92  1  0\\n 85 64  1  0\\n 86 85  2  0\\n 87 89  2  0\\n 87 86  1  0\\n 88 87  1  0\\n 89 90  1  0\\n 90 91  1  0\\n 90 92  2  0\\n 92101  1  0\\n 93 86  1  0\\n 93 94  1  0\\n 95 93  1  0\\n 96 93  1  0\\n 97 99  1  0\\n 97 89  1  0\\n 98 97  1  0\\n100 97  1  0\\n101103  1  0\\n101104  1  0\\n102101  1  0\\n105123  1  0\\n105124  1  0\\n107116  1  0\\n108107  1  0\\n109123  1  0\\n110111  1  0\\n110109  1  0\\n112110  1  0\\n113114  1  0\\n113110  1  0\\n115113  1  0\\n116113  1  0\\n116117  1  0\\n117119  1  0\\n117120  1  0\\n118117  1  0\\n120109  1  0\\n120122  1  0\\n121120  1  0\\n123106  2  0\\n124129  1  0\\n124125  1  0\\n125126  1  0\\n125127  1  0\\n128125  1  0\\n129132  1  0\\n129131  1  0\\n130129  1  0\\n133135  1  0\\n133124  1  0\\n134133  1  0\\n136133  1  0\\n137144  1  0\\n137116  1  0\\n138137  2  0\\n139141  2  0\\n139138  1  0\\n140139  1  0\\n141142  1  0\\n142143  1  0\\n142144  2  0\\n144153  1  0\\n145138  1  0\\n145146  1  0\\n147145  1  0\\n148145  1  0\\n149151  1  0\\n149141  1  0\\n150149  1  0\\n152149  1  0\\n153155  1  0\\n153156  1  0\\n154153  1  0\\nM  END\\n\",\"mol\");\n\tviewer_1611793897271323.setStyle({\"stick\": {}});\n\tviewer_1611793897271323.setStyle({\"serial\": [1, 18, 4, 0, 19, 53, 70, 56, 52, 71, 105, 122, 108, 104, 123]},{\"stick\": {\"color\": \"pink\"}});\n\tviewer_1611793897271323.zoomTo();\nviewer_1611793897271323.render();\n});\n</script>"
     },
     "metadata": {}
    },
    {
     "output_type": "execute_result",
     "data": {
      "text/plain": [
       "<py3Dmol.view at 0x7fc980882130>"
      ]
     },
     "metadata": {},
     "execution_count": 101
    }
   ],
   "source": [
    "for mol in suppl:\n",
    "    if str(mol.GetProp(\"COD\"))==str(7039689):\n",
    "        mol.GetSubstructMatches(torsionQuery)\n",
    "        break\n",
    "\n",
    "matches=mol.GetSubstructMatches(torsionQuery)\n",
    "print(matches)\n",
    "flat_list = [item for sublist in matches for item in sublist]\n",
    "molblock=Chem.MolToMolBlock(mol)\n",
    "viewer = py3Dmol.view(width=300, height=300)\n",
    "viewer.addModel(molblock, 'mol')\n",
    "viewer.setStyle({\"stick\":{}})\n",
    "#viewer.setStyle({'serial':flat_list},{'stick':{'color': 'pink'}})\n",
    "viewer.setStyle({'serial':flat_list},{'stick':{'color': 'pink'}})\n",
    "\n",
    "viewer.zoomTo()"
   ]
  },
  {
   "source": [
    "The matching atoms are coloured in pink here. \n",
    "\n",
    "From the substructure matches above, we can see that the smarts pattern matches 5 atoms, instead of 4. Including the nitrogen (the third atom matching here). In the end, this doesn't describe the bond or the torsion angle we want at all, thus the discrepancies in the results. "
   ],
   "cell_type": "markdown",
   "metadata": {}
  },
  {
   "source": [
    "# Conclusion\n",
    "\n",
    "Alright, this turned out to be much messier than I thought. However, extracting statistics from the COD seems possible, even though there should be a lot careful curation steps integrated when doing something like that. I'll try to dig through the results during the next days and will try to report whether patterns published before using the CSD can be reproduced or not (to some extent). \n",
    "\n",
    "The steps outlined here should also provide a first automated pipeline to select relevant compounds from the COD for regular updates of the potentials - which I do hope will be helpful on the long run for some folks.\n",
    "\n"
   ],
   "cell_type": "markdown",
   "metadata": {}
  },
  {
   "source": [
    "# PS\n",
    "\n",
    "This post yielded a few reactions online, which is great. Thanks for Jesus Seco pointing out a [paper I missed, as usual, from Wolfgang Guba on a more refined set of torsion angle defining smarts patterns](https://pubs.acs.org/doi/10.1021/acs.jcim.5b00522), if you have access to that.  \n",
    "Fortunately the SI is freely available and contains an [xml file](https://pubs.acs.org/doi/suppl/10.1021/acs.jcim.5b00522/suppl_file/ci5b00522_si_001.zip) with all the smarts patterns and even a traffic light (score) system for given ranges of angles. From my understanding in the description of the SI, only the histogram from the CSD was stripped from that file, but the statistics and preferred angles are derived from the CSD. So an excellent set to be used & to be compared to what we can extract from the COD.\n",
    "\n",
    "```xml\n",
    "<torsionRule smarts=\"[*:1]~[CX4:2]!@[n:3]~[*:4]\">\n",
    "      <angleList>\n",
    "        <angle value=\"0.0\" tolerance1=\"30.00\" tolerance2=\"30.00\" score=\"3.07\"/>\n",
    "        <angle value=\"60.0\" tolerance1=\"30.00\" tolerance2=\"30.00\" score=\"3.55\"/>\n",
    "        <angle value=\"120.0\" tolerance1=\"30.00\" tolerance2=\"30.00\" score=\"3.12\"/>\n",
    "        <angle value=\"180.0\" tolerance1=\"30.00\" tolerance2=\"30.00\" score=\"3.54\"/>\n",
    "        <angle value=\"-60.0\" tolerance1=\"30.00\" tolerance2=\"30.00\" score=\"3.65\"/>\n",
    "        <angle value=\"-120.0\" tolerance1=\"30.00\" tolerance2=\"30.00\" score=\"3.1\"/>\n",
    "      </angleList>\n",
    "</torsionRule>\n",
    "```"
   ],
   "cell_type": "markdown",
   "metadata": {}
  },
  {
   "cell_type": "code",
   "execution_count": null,
   "metadata": {},
   "outputs": [],
   "source": []
  }
 ]
}